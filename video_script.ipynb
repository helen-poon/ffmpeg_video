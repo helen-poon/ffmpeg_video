{
 "cells": [
  {
   "cell_type": "markdown",
   "id": "58493dd5-2d67-4b0d-850d-0f320062e97c",
   "metadata": {},
   "source": [
    "<h3 align = center>How to make a simple video using FFMPEG</h3>"
   ]
  },
  {
   "cell_type": "markdown",
   "id": "8a576c46-0d2e-481f-834e-2c4014d6fc38",
   "metadata": {},
   "source": [
    "Introduciton: Recently, I helped someone to make youtube videos. Originally I used a interface software but the free version has a lot of limitations. Plus, using a command-line software can be faster for certain functions (but for others interface version is better). I use AI to write the majority of the code here. At first, I thought it was easy but it turned out to be a lot more complicated than I thought. I will explain below. Though complicated, I learnt some techinical stuff about videos. <br>\n",
    "And, recently, I started learning data science and learnt to use Jupyter Notebook. I find Jupyter Notebook a lot easier when I need to run a script of many different functions. <br>\n",
    "In this tutorial, you will learn some basics of making a video using FFMPEG, including: <br>\n",
    "- how to overlay video, music and images on the main video\n",
    "- how to combine different videos\n",
    "- how to trim a video\n",
    "- how to use subtitle in ass format and burn it in a video\n",
    "- how to add a mosiac\n",
    "- how to extract audio and convert to text\n",
    "- how to translate the subtitle to different languages\n",
    "- how to zoom in an image\n",
    "- how to concatenate videos\n",
    "- how to insert a black still(or other colors) with text when introducing a topic\n",
    "\n",
    "Finally, some little thing to share. If you use Mac, use Chrome to open Jupyter Notebook, don't use Safari. When you add a new cell, Safari always adds in a wrong postion. There are always issues when you change a cell from Code to Markdown. That drives my crazy. Chrome wouldn't have the same problems.\n"
   ]
  },
  {
   "cell_type": "markdown",
   "id": "82b2ba06-62de-40a0-a643-7e95fb48deec",
   "metadata": {},
   "source": [
    "<h3 align = center>Things you need to download</h3>\n",
    "The most important is <i><b>ffmpeg</b></i>. Use home brew to download it (I am using Mac). <br>\n",
    "Here are the python packages I use:  <br>\n",
    "<i>subprocess, os, sys, shlex, pathlib, re,datetime, math, json, PIL, fractions, matplotli, tempfile, shutil, cv2, numpy, whisper, demucs, opencc</i> <br><br>\n",
    "When you install <i>whisper</i>(for converting audio to subtitles) and <i>demucs</i>(for separating different audio channels), you probably need to set up another python environment. As of now, the latest python version is not compatible. When you run these two, you need to switch the environment first.<br>\n",
    "The code we are using here is in <b><i>video_commands.py</i></b>.\n"
   ]
  },
  {
   "cell_type": "markdown",
   "id": "a4ad4852-3370-4474-8cd6-021a0c95890c",
   "metadata": {},
   "source": [
    "<h3 align = center> Let's begin! </h3>\n",
    "The media files used in this file are in the folder <i>media_files</i>. The main video is a documentary in 1944 called <i>Marines at Tarawa - Return to Guam</i>. Originall it is 40 minutes but I already trimmed it to 5 minutes. This is the main video of this tutorial called <i><b>marines_5min.mov</i></b>. If you want to trim it yourself, you can download it here: <br>\n",
    "<a href =\"https://archive.org/details/publicmovies212/Marines_at_Tarawa_Return_to_Guam.webm\">https://archive.org/details/publicmovies212/Marines_at_Tarawa_Return_to_Guam.webm</a>"
   ]
  },
  {
   "cell_type": "markdown",
   "id": "475c2024-5b9d-4a3d-a09b-cf2e4bc99bf7",
   "metadata": {},
   "source": [
    "<h3 align = center>Trimming a video </h3>\n",
    "Say, we want to extract <i>11:00 to 16:00</i> from the video Marines_at_Tarawa_Return_to_Guam.mp4(the original 40-min video) and rename the output to <i>media_files/marines_5min.mov</i>, here is the ffmpeg command:<br><br>\n",
    "<i>ffmpeg -y -ss 11:00 -to 16:00 -i Marines_at_Tarawa_Return_to_Guam.mp4 -c:v libx264 -preset veryfast -crf 18 -c:a copy  media_files/marines_5min.mov</i> <br><br>\n",
    "Below is the python version. Pay attention to these parameters in the above ffmpeg command:<br><br>\n",
    "<b><i>-c:v libx264 -preset veryfast -crf 18</i></b>  <br><br>\n",
    "HEVC 264(libx264) is a very common compression format and compatible with most video players. An efficient compression format can give you a similar video quality and smaller file size.(This is something new I learn. I used to think the larger the size, the better the quality!) <br><br>\n",
    "And the actual quality depends on <b><i>crf</i></b> and <b><i>preset</i></b>. <b><i>crf</i></b> ranges from 0 - 50. The smaller the value, the better the quality. <b><i>preset</i></b> has values of \"veryslow\",\"slow\",\"medium\",\"fast\",\"veryfast\" and \"ultrafast\". These two together determine the compression time and file size. If you choose a small value of <b><i>crf</i></b> and \"veryslow\" for <b><i>preset</i></b>, you end up having a video a lot larger than the original.<br><br>\n",
    "\n",
    "Usually, <b><i> -crf 18 -preset fast</b></i> is good enough. You can do an experiment by re-encoding a high resolution video with different <i>crf</i> and <i>preset</i> parameters and see how the quality changes.\n",
    "\n"
   ]
  },
  {
   "cell_type": "code",
   "execution_count": null,
   "id": "1fabe0b9-ac33-49dd-bc48-31c3d4e7b302",
   "metadata": {},
   "outputs": [],
   "source": [
    "from video_commands import * \n",
    "main_video = \"Marines_at_Tarawa_Return_to_Guam.mp4\"\n",
    "start_time = \"11:00\" #you can enter as 1)an interger which is second, 2)mm:ss, or 3)hh:mm:ss\n",
    "end_time = \"16:00\" \n",
    "output_file = \"media_files/marines_5min.mov\"\n",
    "trim_video(main_video, start_time, end_time, output_file,crf=18, preset = \"fast\")"
   ]
  },
  {
   "cell_type": "markdown",
   "id": "f841262e-07cc-43d0-a0b4-dd032bbf3e67",
   "metadata": {},
   "source": [
    "<h3 align = center>Codec of a video</h3>\n",
    "Now we have produced the main video, let's take a look at the codec(technical details). It has got video and audio parts:<br>\n",
    "ffmpeg code for video: <br>\n",
    "<i>ffprobe -v error -select_streams v:0 -show_entries stream=codec_name,width,height,r_frame_rate,pix_fmt -of csv=p=0 media_files/marines_5min.mov</i>\n",
    "ffmpeg code for audio: <br>\n",
    "<i>ffprobe -v error -select_streams a:0 -show_entries stream=codec_name,sample_rate,channels -of csv=p=0 media_files/marines_5min.mov</i>\n",
    "<br><br>\n",
    "Now let's run the code below:<br>"
   ]
  },
  {
   "cell_type": "code",
   "execution_count": null,
   "id": "3982c896-3204-4eae-8fe6-09664e0a808c",
   "metadata": {},
   "outputs": [],
   "source": [
    "from video_commands import * \n",
    "file_list = [\"media_files/marines_5min.mov\"]\n",
    "print_media_info(file_list)"
   ]
  },
  {
   "cell_type": "code",
   "execution_count": null,
   "id": "9e9c2b5e-eddf-4505-a336-3859d384d3a8",
   "metadata": {},
   "outputs": [],
   "source": [
    "from video_commands import * \n",
    "file_list = [\"media_files/marines_5min.mov\"]\n",
    "print_media_info(file_list)"
   ]
  },
  {
   "cell_type": "markdown",
   "id": "aae6388b-89ac-4393-9282-5b4f51241dd4",
   "metadata": {},
   "source": [
    "<h3 align = center>Splitting a video into sections and combining with black stills</h3>\n",
    "For my video, I need to insert a few black stills to separate the video in different sections. The black still looks like this:\n",
    "<p align=\"center\">\n",
    "    <img src=\"https://helen-poon.github.io/ffmpeg_video/black_screen.png\" \n",
    "         alt=\"Black screen separator\" \n",
    "         style=\"max-width: 100%; height: auto;\">\n",
    "</p>\n",
    "\n",
    "\n",
    "Say, the first black still appears at 1:30, the second one 2:30 and the third one 4:00. Then we have to split the video into different sections: <br>\n",
    "1) 0:00 - 1:30 <br>\n",
    "2) 1:30 - 2:30 <br>\n",
    "3) 2:30 - 4:00 <br>\n",
    "4) 4:00 - the end <br>\n",
    "First, let's split the main video into 4 sections, namely <i>video1.mov</i>, <i>video2.mov</i>, <i>video3.mov</i> and <i>video4.mov</i><br><br>\n",
    "<i>ffmpeg -y -ss 0.000 -i media_files/marines_5min.mov -t 90.000 -c:v libx264 -preset fast -c:a pcm_s16le -ar 48000 -ac 2 -movflags +faststart video1.mov</i><br>\n",
    "<i> ffmpeg -y -ss 90.000 -i media_files/marines_5min.mov -t 60.000 -c:v libx264 -preset fast -c:a pcm_s16le -ar 48000 -ac 2 -movflags +faststart video2.mov</i><br>\n",
    "<i>ffmpeg -y -ss 150.000 -i media_files/marines_5min.mov -t 90.000 -c:v libx264 -preset fast -c:a pcm_s16le -ar 48000 -ac 2 -movflags +faststart video3.mov </i><br>\n",
    "<i>ffmpeg -y -ss 240.000 -i media_files/marines_5min.mov -t 60.009 -c:v libx264 -preset fast -c:a pcm_s16le -ar 48000 -ac 2 -movflags +faststart video4.mov\n",
    " </i><br><br>\n",
    "\n",
    " Below is the python code. Let's run it.<br>\n"
   ]
  },
  {
   "cell_type": "markdown",
   "id": "12542ec0-a165-4ba0-ac09-1e21204f62fd",
   "metadata": {},
   "source": [
    "Here is the output on the screen when you run the python code above:<br><br>\n",
    "\n",
    "---- media_files/marines_5min.mov ---- <br>\n",
    "video info:  ffprobe -v error -select_streams v:0 -show_entries stream=codec_name,width,height,r_frame_rate,pix_fmt -of csv=p=0 <br> media_files/marines_5min.mov<br>\n",
    "Video: h264,556,412,yuv420p,25/1 <br>\n",
    "audio info:  ffprobe -v error -select_streams a:0 -show_entries stream=codec_name,sample_rate,channels -of csv=p=0 <br>media_files/marines_5min.mov<br>\n",
    "Audio: aac,44100,2<br>\n",
    "video start and end time:0.000000,300.000000<br>\n",
    "audio start and end time:0.000000,300.009002<br>\n",
    "\n",
    "For the video part: <br>\n",
    "<i>h264</i> is the compression format I just talked about<br>\n",
    "<i>556,412 </i>are the width and height of the video respectively<br>\n",
    "<i>yuv420p</i> is the Chroma Subsampling Scheme. I don't know the importance of this.<br>\n",
    "<i>25/1</i> is the frame rate<br>\n",
    "\n",
    "For the audio part: <br>\n",
    "<i>aac</i> is the most commom audio codec\n",
    "<i>44100</i>(44.1kHz) us  the standard sample rate for audio CDs\n",
    "<i>2</i> The number of audio channels\n",
    "\n",
    "When concatenating videos of different format, they have to be re-encoded first or concatenation would fail. We will get back to this later. <br>\n",
    "The most important thing to note here is the final lines: <br>\n",
    "<i>video start and end time:0.000000,300.000000<br>\n",
    "audio start and end time:0.000000,300.009002</i><br>\n",
    "\n",
    "You see the video and audio don't have the same duration. This would cause asynchronization when concatenating different videos(even though the difference is < 0.1s, the asynchronization is noticeable). You see the video and audio don't match. I struggled a lot to understand this. I used to think it was the problem of the ffmpeg command but indeed it is not. You have to trim either the video or the audio so that the duration match. We will do this later.<br>\n"
   ]
  },
  {
   "cell_type": "code",
   "execution_count": null,
   "id": "6349cf43-64b1-4bc5-8197-843f70700c44",
   "metadata": {},
   "outputs": [],
   "source": [
    "main_video = \"media_files/marines_5min.mov\"\n",
    "the_end = get_video_length(main_video) #we retrive the exact end time in hh:mm:ss by calling this function\n",
    "sections = [\"0:00 - 1:30\",\"1:30 - 2:30\",\"2:30 - 4:00\",f\"4:00-{the_end}\"]\n",
    "#Below are the output files. The length of this list has to match the length of sections\n",
    "output_files = [\"video1.mov\",\"video2.mov\",\"video3.mov\",\"video4.mov\"] \n",
    "split_video(main_video, sections, output_files, audio_codec=\"wav\")"
   ]
  },
  {
   "cell_type": "markdown",
   "id": "db3b466b-6ad5-483c-9212-d92aa7d9b6ca",
   "metadata": {},
   "source": [
    "<h3 align = center>Creating a black still</h3>\n",
    "Now we are going to create some black stills to be inserted into the video. The main video has 4 different sections, so we insert 3 black stills. Say, the text are \"Section 1\", \"Section 2\", and \"Section 3\", each last for 5 seconds. The output names are  \"black1.mov\",\"black2.mov\"and \"black3.mov\". We first create a blank black still with the same dimensions(556x412) as the main video:<br><br>\n",
    "\n",
    "<i>ffmpeg -y -f lavfi -i color=c=black:s=556x412:r=25.0:d=5 -f lavfi -i anullsrc=r=44100:cl=stereo -shortest -c:v libx264 -pix_fmt yuv420p -c:a pcm_s16le temp_black.mp4</i><br>\n",
    "\n",
    "Then python creates an ass file with the text called <i>temp_sub.ass</i>. Finally <i>temp_sub.ass</i> is burnt in to <i>temp_black.mp4</i> and the final output is what we want.\n",
    "\n",
    "<i>ffmpeg -y -i temp_black.mp4 -vf ass=temp_sub.ass -c:v libx264 -pix_fmt yuv420p -c:a copy black1.mov</i>\n",
    "\n",
    "<b>Note that if the numbers(like <i>1</i> in <i>\"Section 1\"</i>) appear strange (maybe bigger than the text) in <i>black1.mov</i>, you need to install some fonts. I don't remember how to do it, but I do remember I asked chatgpt.<br></b>\n"
   ]
  },
  {
   "cell_type": "code",
   "execution_count": null,
   "id": "80869c5e-4324-4ba4-b46a-604c99fba1d3",
   "metadata": {
    "scrolled": true
   },
   "outputs": [],
   "source": [
    "from video_commands import * \n",
    "main_video = \"media_files/marines_5min.mov\"\n",
    "text = [\"Section 1\",\"Section 2\",\"Section 3\"]\n",
    "output_files = [\"black1.mov\",\"black2.mov\",\"black3.mov\"]\n",
    "duration = 5 # in seconds\n",
    "for txt,output_names in zip(text,output_files):\n",
    "    output_file = create_black_still(main_video,txt,duration,output_names,font_name=\"Arial\",font_size=72,\n",
    "    font_color=\"&H00FFFFFF\" #Solid White\n",
    ")"
   ]
  },
  {
   "cell_type": "markdown",
   "id": "97d8de5b-c47e-475d-97ef-2041e37d5d10",
   "metadata": {},
   "source": [
    "The black stills are produced with the same codec as the main video, we can check them:"
   ]
  },
  {
   "cell_type": "code",
   "execution_count": null,
   "id": "cf8943b9-1421-4114-88d0-078b0cb5e8f2",
   "metadata": {},
   "outputs": [],
   "source": [
    "file_list = [\"media_files/marines_5min.mov\",\"video1.mov\",\"video2.mov\",\"video3.mov\",\"video5.mov\",\n",
    "            \"black1.mov\",\"black2.mov\",\"black3.mov\"]\n",
    "print_media_info(file_list)"
   ]
  },
  {
   "cell_type": "markdown",
   "id": "6c8a45a7-d7d2-428a-8b31-ef92195a2bd2",
   "metadata": {},
   "source": [
    "You see the video codecs are the same, but the audio codec is <i>pcm_s16l</i> for the segmented videos and black stills. This format is loseless and preserves the quality. But for the final audio format, we will convert to aac. Also note that for the black stills, the audio duration and video duration do not match. We are going to deal with this with the following function. It first extracts the codec from the main video, then convert other videos with the same codec, finally trim the video or audio duration so that they match. If a video has no audio stream, this function would add a silent one. <br>\n",
    "<b>Note that this step is actually unnecessary because it is incorporated in the next function <i>combine_video()</i></b>. I am just showing what reencoding does here. This process may take > 10 mins. To speed things up, change the <i>crf</i> and <i>preset</i> values.<br>\n",
    "\n",
    "Here is the break down of <i>reencode_to_match()</i>:<br>\n",
    "1)Get main video's codec: <br>\n",
    "<i>ffprobe -v error -select_streams v:0 -show_entries stream=width,height,r_frame_rate,duration -of json media_files/marines_5min.mov\n",
    "</i><br>\n",
    "\n",
    "The codec is retrieved and input into the next step.<br>\n",
    "            \n",
    "2)Re-encode the main video to audio = PCM: <br>\n",
    "<i>ffmpeg -y -i media_files/marines_5min.mov -r 25.0 -c:v libx264 -c:a pcm_s16le -ar 44100 -ac 2 -preset fast -crf 18 marines_5min_tmp.mov</i><br><br>\n",
    "3)Rescaling video to match the main video's dimension:<br>\n",
    "<i>ffmpeg -y -i marines_5min_tmp.mov -vf scale=556:412,pad=556:412:0:0:black -c:v libx264 -preset fast -crf 18 -c:a copy marines_5min_reencoded.mov</i><br><br>\n",
    "4)Pad/truncate audio to match video duration:<br>\n",
    "<i>ffmpeg -y -i marines_5min_reencoded.mov -c:v copy -af apad,atrim=0:300.000000 marines_5min_reencoded_padded.mov</i><br>\n",
    "\n",
    "So the final product we want is the last one - <i>marines_5min_reencoded_padded.mov</i>. The same procedure applies to other videos.\n"
   ]
  },
  {
   "cell_type": "code",
   "execution_count": null,
   "id": "120f0365-bca9-4e66-9ec6-ef15fbd03640",
   "metadata": {},
   "outputs": [],
   "source": [
    "from video_commands import * \n",
    "main_video = \"media_files/marines_5min.mov\"\n",
    "# The main video serves as the \"standard\" codec for others to follow\n",
    "list_to_reencode = [main_video,\"video1.mov\",\"video2.mov\",\"video3.mov\",\"video4.mov\",\n",
    "            \"black1.mov\",\"black2.mov\",\"black3.mov\"]\n",
    "reencoded_file_names, reencoded_file_dict =reencode_to_match(main_video, list_to_reencode,crf=\"50\", preset=\"ultrafast\")\n",
    "\"\"\"\n",
    "reencoded_file_names are the new file names and reencoded_file_dict is a dictionary with old video names as the key and\n",
    "reencoded videos as the value\n",
    "\"\"\"\n",
    "print_media_info(reencoded_file_names)"
   ]
  },
  {
   "cell_type": "markdown",
   "id": "7b817112-349e-4ca0-b7e6-cdfe64b58953",
   "metadata": {},
   "source": [
    "Now we have the reencoded video name, and we can check the codec again. The reencoded video has a default new name. If the original name is <i>xxx.mov </i>, then the new name:  <i>xxx_reencoded_padded.mov </i>\n"
   ]
  },
  {
   "cell_type": "code",
   "execution_count": null,
   "id": "010dd1f1-2dfa-4143-a511-5f08e84a1e1f",
   "metadata": {},
   "outputs": [],
   "source": [
    "list_of_videos = [\"video1_reencoded_padded.mov\",\"video2_reencoded_padded.mov\",\"video3_reencoded_padded.mov\",\n",
    "\"video4_reencoded_padded.mov\",\"black1_reencoded_padded.mov\",\"black2_reencoded_padded.mov\",\n",
    "                 \"black3_reencoded_padded.mov\"]\n",
    "print_media_info(list_of_videos)"
   ]
  },
  {
   "cell_type": "markdown",
   "id": "4ebcf3d5-722b-4bcf-9544-b52ad2ec1544",
   "metadata": {},
   "source": [
    "You see now the audio and video duration, and the codec are all the same. We can combine them safely now. The code creates a temporary folder and put all the intermediate files there. It first reencode all the videos to convert them to the same codec, then combine them. <b>Remember the above function <i>reencode_to_match()</i> is unnecessary.</b><br>\n",
    "Now let's combine the videos:<br>"
   ]
  },
  {
   "cell_type": "code",
   "execution_count": null,
   "id": "a621bae3-66a3-4117-ad11-57bf926e87ea",
   "metadata": {},
   "outputs": [],
   "source": [
    "#input the video list in order of concatenation\n",
    "video_list = [\"video1.mov\",\"black1.mov\",\"video2.mov\",\"black2.mov\",\"video3.mov\",\"black3.mov\",\"video4.mov\"]\n",
    "#primary index is the video which serves as a \"model\" for reencoding. All other videos will have the same codec as this one. \n",
    "#Note the first video has a primary_index \"1\", not \"0\"\n",
    "combine_video(video_list, primary_index=1, output_file=\"marines_5min_new.mov\", crf=18, preset=\"fast\")"
   ]
  },
  {
   "cell_type": "markdown",
   "id": "8c7cf56c-6284-488a-a3d7-9708f1c8bf18",
   "metadata": {},
   "source": [
    "Now you run the code below and you can see the black stills at 1:30, 2:35 and 4:10, each lasts for 5s."
   ]
  },
  {
   "cell_type": "code",
   "execution_count": null,
   "id": "c4f56843-ca48-455a-accf-c66bb62191e6",
   "metadata": {},
   "outputs": [],
   "source": [
    "%%HTML\n",
    "<iframe width=\"560\" height=\"315\" src=\"https://www.youtube.com/embed/Jou_m0InGRQ\" frameborder=\"0\" allowfullscreen></iframe>"
   ]
  },
  {
   "cell_type": "markdown",
   "id": "d889be63-ed74-473a-8035-e823e8161e1e",
   "metadata": {},
   "source": [
    "<h3 align =center>Separating the audio channels of a video</h3>\n",
    "Sometimes the video have different audio channels, i.e. background music and narration. This would bring difficulties when we convert the audio to subtitles. We need to separate the channels first. <i>demucs</i> is a very powerful tool to use. You end up having a file called <i>vocals.wav</i>, this is the file for the subtitle. This process may take around half an hour. I have difficulty implementing <i>demucs</i> using python. I am giving up. Just run the following in the command line.<b>Remember to switch to the python environment where <i>whisper</i> is in to run this.</b>"
   ]
  },
  {
   "cell_type": "markdown",
   "id": "e151aa8b-0973-4628-a900-9bb5f995e664",
   "metadata": {},
   "source": [
    "copy and paste and in the terminal. Don't run it here! The output is in default folders <b><i>separated/htdemucs/marines_5min_new</i></b>\n",
    "\n",
    "<i><b>demucs -o media_files media_files/marines_5min_new.mov</i></b>"
   ]
  },
  {
   "cell_type": "markdown",
   "id": "7a760f58-5917-42af-8596-0949cd1d83f7",
   "metadata": {},
   "source": [
    "Now in <i>separated/htdemucs/marines_5min_new</i>, we find <i>vocals.wav</i>. We use this file to extract the subtitles. This process takes 10-20 mins.<br>"
   ]
  },
  {
   "cell_type": "code",
   "execution_count": null,
   "id": "3eb082c6-5c4a-4fe5-a7e6-342583c9fafc",
   "metadata": {},
   "outputs": [],
   "source": [
    "#input can be a video or audio. If video, make sure the audio channel is \"clean\"\n",
    "video = \"separated/htdemucs/marines_5min_new/vocals.wav\"\n",
    "outputsrt = \"subtitle.srt\"\n",
    "voice_to_srt(video, outputsrt)"
   ]
  },
  {
   "cell_type": "markdown",
   "id": "5a6e561f-baf3-4c30-b5fe-1e348f159d75",
   "metadata": {},
   "source": [
    "If there are any mistakes in the subtitle file <i>subtitle.srt</i>, just correct it and we will proceed to the next step."
   ]
  },
  {
   "cell_type": "markdown",
   "id": "0e29fb99-4b0d-492d-817e-7be90b44a9de",
   "metadata": {},
   "source": [
    "<h3 align=center>Translating the subtitle to different languages</h3>\n",
    "If you use deepl, you need an api key. You can get a free one. I provide an empty file <i>api_deepl.txt</i> for you to input the key. If you don't want to use it, then just use <i>google translate</i>.<br>\n",
    "For google translate, here is the code for some common languages:<br><br>\n",
    "\n",
    "<i>english = en<br>\n",
    "simplified chinese = \"zh-CN\" for google, \"zh\" for deepl<br>\n",
    "traditional chinese = \"zh-TW\" for google, \"zh\" for deepl<br>\n",
    "japanese = ja<br>\n",
    "korea = ko<br>\n",
    "german = de<br>\n",
    "french = fr<br></i>"
   ]
  },
  {
   "cell_type": "code",
   "execution_count": null,
   "id": "b563fe99-a84a-474a-a9d8-c3bb453cc607",
   "metadata": {},
   "outputs": [],
   "source": [
    "from video_commands import *\n",
    "subtitle_file = \"subtitle.srt\"\n",
    "outputfile = \"subtitle_google_ja.srt\"\n",
    "target_lang = \"ja\"\n",
    "source_lang = \"en\" #not inputting this would set the value to auto-detect\n",
    "translate_srt_google(subtitle_file,outputfile, target_lang, source_lang)"
   ]
  },
  {
   "cell_type": "markdown",
   "id": "4891fc3e-5912-40e1-a476-062ac19592b3",
   "metadata": {},
   "source": [
    "If you have deepl api, then here it is. When you open the output file <i>subtitle_jp.srt</i>. Deepl always get the last sentence untranslated. You have to do this manually. If you translate to Chinese, the output can be traditional or simplified chinese, or a mixture of both. I convert the output to simplfied Chinese in the code."
   ]
  },
  {
   "cell_type": "code",
   "execution_count": null,
   "id": "c84219e5-beed-48c3-9658-7cfefaddb1ff",
   "metadata": {},
   "outputs": [],
   "source": [
    "subtitle_file = \"subtitle.srt\"\n",
    "outputfile = \"subtitle_deepl_zh.srt\"\n",
    "target_lang = \"zh\" \n",
    "source_lang = \"en\" #not inputting this would set the value to auto-detect\n",
    "deepl_translate_srt(subtitle_file, outputfile,target_lang)"
   ]
  },
  {
   "cell_type": "markdown",
   "id": "ac9b7c4b-9c6b-4891-b73c-3aced5eab1b5",
   "metadata": {},
   "source": [
    "In order to make proofreading easier, you can combine the subtile in the original language and the translated language into one file. The file looks like this:<br><br>\n",
    "1<br>\n",
    "00:00:00.000 --> 00:00:03.399<br>\n",
    "マシンガンの代わりに直腸のピビオンを使う。<br>\n",
    "about to our rectum pivions instead of machine guns.\n",
    "<br><br>\n",
    "2<br>\n",
    "00:00:06.560 --> 00:00:09.500<br>\n",
    "彼らは私たち数人を、私たちは彼ら全員を捕まえた。<br>\n",
    "They got a few of us, all we got them.<br><br>\n",
    "\n"
   ]
  },
  {
   "cell_type": "code",
   "execution_count": null,
   "id": "50e3556d-cca8-40b2-8479-36a30b21fb45",
   "metadata": {},
   "outputs": [],
   "source": [
    "file1_path = \"subtitle.srt\" #input file, make this the original language\n",
    "file2_path = \"subtitle_jp.srt\" #input file, make this the translated langauge\n",
    "output_path = \"subtitle_jp_en.srt\" #output file which combines two input files\n",
    "combine_srt(file1_path, file2_path, output_path)"
   ]
  },
  {
   "cell_type": "markdown",
   "id": "8712a223-f86d-4888-87d9-f21595207cd3",
   "metadata": {},
   "source": [
    "after proofreading, you can separate them."
   ]
  },
  {
   "cell_type": "code",
   "execution_count": null,
   "id": "e231ac1b-ddf5-4ea6-8de1-180dda099fea",
   "metadata": {},
   "outputs": [],
   "source": []
  },
  {
   "cell_type": "markdown",
   "id": "de8a21ea-5519-45ae-ae5c-c48f42ec0d91",
   "metadata": {},
   "source": [
    "We will just leave the subtitle here right at the moment. When the final video is done. We will convert it to ass format and burn in to the video."
   ]
  },
  {
   "cell_type": "markdown",
   "id": "b56829ff-ef5a-4b1d-a951-25297cb905ec",
   "metadata": {},
   "source": [
    "<h3 align = center >Overlaying videos, images and music</h3>\n",
    "\n",
    "<b>In the last step of this section, we will overlay all the videos, images and music to the main video in one step. But now I am breaking down each step for tutorial purpose. You can look for \"overlaying everything\" directly and skip the details here.</b><br><br>\n",
    "Now we can proceed to overlaying other videos, images and music on the main video. We can even zoom in an image. Let's proceed with overlaying videos on the main video first.<br>\n",
    "<h5>1.Overlaying a video</h5>\n",
    "For the overlay video, we need to remove the audio first. The first step is to check whether there is an audio stream: <br> \n",
    "<i>ffprobe -i media_files/Aumun_Background.mov -show_streams -select_streams a -loglevel error</i><br> <br>\n",
    "\n",
    "Next, the audio is removed from the video, or you can choose a <i>volume factor</i> to lower the audio volume:<br> \n",
    "<i>ffmpeg -y -i media_files/Aumun_Background.mov -filter:a volume=0 -c:v copy ./Aumun_Background_muted.mov</i><br>\n",
    "\n",
    "The default name for the muted video is <i>xxx_muted.mov</i>, or <i>xxx_0.2.mov</i>, if you choose the lower the audio to 20% of the original. This product would be used in the next step.<br>\n",
    "\n",
    "Finally, the audio is saved as a separate wav file <i>Aumun_Background.wav</i>:<br>\n",
    "<i>ffmpeg -i media_files/Aumun_Background.mov -vn -acodec pcm_s16le -ar 44100 -ac 2 ./Aumun_Background.wav</i><br><br>\n",
    "If you don't want it, you can discard it.<br>"
   ]
  },
  {
   "cell_type": "code",
   "execution_count": null,
   "id": "93e5f616-71ae-4d77-998a-f0c14e009018",
   "metadata": {},
   "outputs": [],
   "source": [
    "from video_commands import *\n",
    "video = \"media_files/Aumun_Background.mov\"\n",
    "outfolder = \".\"\n",
    "volume_factor = 0\n",
    "separate_audio_video(video,outfolder,volume_factor)"
   ]
  },
  {
   "cell_type": "markdown",
   "id": "d22d76a2-e453-4442-bce4-e32ee2085875",
   "metadata": {},
   "source": [
    "Next, do the re-encoding to match the audio and video codec to the main video. You can check the codec of the videos after reencoding\n",
    ":"
   ]
  },
  {
   "cell_type": "code",
   "execution_count": null,
   "id": "40b8d0db-452a-41c1-9a32-2293a489e2d9",
   "metadata": {},
   "outputs": [],
   "source": [
    "main_video = \"marines_5min_new.mov\"\n",
    "list_to_reencode = [main_video,\"Aumun_Background_muted.mov\"]\n",
    "reencoded_file_names, reencoded_file_dict =reencode_to_match(main_video, list_to_reencode,crf=\"18\", preset=\"fast\")\n",
    "print(reencoded_file_names)\n",
    "print_media_info(reencoded_file_names)\n"
   ]
  },
  {
   "cell_type": "markdown",
   "id": "3624da42-d5f5-4d76-8645-46d5883c71e4",
   "metadata": {},
   "source": [
    "Finally, we can do the overlay. Note that the function <i>overlay_video_img_music</i> actually incorporates <i>reencode_to_match()</i>. You just have to input the raw media files.<br>\n",
    "What you need is a parameter list as a list of list:<br>\n",
    "\n",
    "<i>para_list = [[\"media_files/Aumun_Background.mov\",\"0:30\",\"0:45\",\"0:05\",3]]</i><br><br>\n",
    "We want to overlay <i>media_files/Aumun_Background.mov\"(1st parameter)</i> from <i>time=30 seconds(2nd parameter)</i> to <i>time=45 seconds(3rd parameter)</i> of the main video. <i>\"media_files/Aumun_Background.mov</i> last for 29 seconds and we want to extract the part of this video starting from <i>5s(4th parameter)</i>. That means we overlay (5-20)s of <i>media_files/Aumun_Background.mov</i> to (30-45)s of the main video. The fade out time is <i>3s(final parameter)</i>.<br>\n",
    "\n",
    "For the time parameters(2nd,3rd and 4th parameters), they can be input as an integer, or as \"mm:ss\" or \"hh:mm:ss\". Fade-in and fade-out should be in seconds(an integer)<br><br>\n",
    "\n",
    "Now, let's do it:<br>\n"
   ]
  },
  {
   "cell_type": "code",
   "execution_count": null,
   "id": "e7ac9259-de78-4824-af32-03d9d0b60cb0",
   "metadata": {},
   "outputs": [],
   "source": [
    "main_video = \"marines_5min_new.mov\"\n",
    "end_time = get_video_length(main_video)\n",
    "para_list = [[\"media_files/Aumun_Background.mov\",\"0:30\",\"0:45\",\"0:05\",3]]\n",
    "outputfile = \"marines_5min_video_overlay.mov\"\n",
    "overlay_video_img_music(main_video, para_list, outputfile, crf=18, preset=\"fast\")"
   ]
  },
  {
   "cell_type": "markdown",
   "id": "784204b3-d0a1-423b-a6d8-2ca631ef6ba3",
   "metadata": {},
   "source": [
    "Now you can run the code below to see the newly created file <i>marines_5min_video_overlay.mov</i>. Go to time = 0:30 and you can see the overlay until 0:45, with fade-out starting 5 seconds before."
   ]
  },
  {
   "cell_type": "code",
   "execution_count": null,
   "id": "a36a31d6-1bc1-4bec-b096-37a71b374fcf",
   "metadata": {},
   "outputs": [],
   "source": [
    "%%HTML\n",
    "<iframe width=\"560\" height=\"315\" src=\"https://www.youtube.com/embed/PtlQhHtLjKs\" frameborder=\"0\" allowfullscreen></iframe>"
   ]
  },
  {
   "cell_type": "markdown",
   "id": "30793398-e131-4d34-9e22-576161fa6e87",
   "metadata": {},
   "source": [
    "<h5>Overlaying images</h5>\n",
    "Next, we can proceed to overlaying images. If we want to have a zoom-in effect, we need to turn the image into a video first. But the first step is to decide the focus of the zoom in. This step is actally more complicated with <i>ffmpeg </i> than interface software. For the following image, suppose we want to zoom in to the boat. We need to rescale the image(<i>media_files/boat.jpg</i>) to match the main video and then add a grid to get the coordinate.\n",
    "<p align=\"center\">\n",
    "    <img src=\"https://helen-poon.github.io/ffmpeg_video/media_files/boat.jpg\" \n",
    "         alt=\"Black screen separator\" \n",
    "         style=\"max-width: 50%; height: auto;\">\n",
    "</p>\n"
   ]
  },
  {
   "cell_type": "code",
   "execution_count": null,
   "id": "a6153fb5-5bce-493b-a670-fe4cbd93cbff",
   "metadata": {},
   "outputs": [],
   "source": [
    "main_video = \"marines_5min_new.mov\" #we need to rescale the input image to match the size of the main video\n",
    "video_width,video_height = get_media_dimensions(main_video) \n",
    "image_name = \"media_files/boat.jpg\" #the input image\n",
    "#the rescaled image which matches the dimensions of the main video. This file is used as the overlay\n",
    "output_filename = \"boat_rescaled.jpg\" \n",
    "make_rescaled_image(video_width, video_height, image_name, output_filename) #produce the rescaled image\n",
    "input_file = output_filename\n",
    "output_file = \"boat_rescaled_grid.jpg\"\n",
    "#add a grid to the rescaled image to retrieve pixel positions, setting an interval = 50 means the distance between the grid is 50 pixels\n",
    "add_numbered_grid(input_file, output_file,video_width,video_height,interval=50,line_color=\"red\",number_color=\"black\") \n"
   ]
  },
  {
   "cell_type": "markdown",
   "id": "16328503-9285-466f-b93e-c14a23908a6b",
   "metadata": {},
   "source": [
    "Here is the newly created <i>boat_rescaled_grid.jpg</i>. <b>Top left corner has x = 0, y = 0 </b>. Since the size of the grid is 50 pixels. We can see the boat has a coordinate x = 275, y=275.\n",
    "<p align=\"center\">\n",
    "    <img src=\"https://helen-poon.github.io/ffmpeg_video/boat_rescaled_grid.jpg\" \n",
    "         alt=\"Black screen separator\" \n",
    "         style=\"max-width: 50%; height: auto;\">\n",
    "</p>"
   ]
  },
  {
   "cell_type": "markdown",
   "id": "665c2aca-c947-44c3-b740-fca2bb7c85d0",
   "metadata": {},
   "source": [
    "Now we can produce the video with the zoom in. Below we want to make a video out of <i>boat_rescaled.jpg</i>. The video has a duration of 5 seconds. Starting from 2 second of the overlay, zoom in starts to the position x = 275, y = 275. The magnification is 2. The output file name is <i>boat_video.mov</i>.\n",
    "We have to input the above as a list of list."
   ]
  },
  {
   "cell_type": "code",
   "execution_count": null,
   "id": "0bdc58d6-a899-4836-b49e-ebd17dd97006",
   "metadata": {},
   "outputs": [],
   "source": [
    "x_pos,y_pos = 275,275\n",
    "duration = 5\n",
    "zoom_start = 2\n",
    "zoom_max = 2\n",
    "out_file = \"boat_video.mov\"\n",
    "image_list = [[\"boat_rescaled.jpg\", x_pos, y_pos, duration, zoom_start, zoom_max, out_file]]\n",
    "create_zoom(image_list, main_video, crf=18, preset=\"fast\")"
   ]
  },
  {
   "cell_type": "markdown",
   "id": "e5318a26-6924-4792-87a3-e5ee1553f94e",
   "metadata": {},
   "source": [
    "Now run the following and you can see the video of 5s with a zoom-in to the boat starting at time = 2s. With this video, you can overlay it to the main video like we just did."
   ]
  },
  {
   "cell_type": "code",
   "execution_count": null,
   "id": "c140d044-fede-4e6e-9ea1-e9af59419e89",
   "metadata": {},
   "outputs": [],
   "source": [
    "%%HTML\n",
    "<iframe width=\"560\" height=\"315\" src=\"https://www.youtube.com/embed/sDrC1RSrT2o\" frameborder=\"0\" allowfullscreen></iframe>"
   ]
  },
  {
   "cell_type": "markdown",
   "id": "652495ee-15e2-40fd-86a2-4cde14b1682f",
   "metadata": {},
   "source": [
    "Next, we just simply want to overlay an image. We call the function <i>overlay_video_img_music()</i> again. Remember we have to enter a parameter list as a list of list, this time in the format for an image. We want to overlay <i>boat_rescaled.jpg(1st parameter)</i> from <i>1:50-1:55(2nd and 3rd parameter)</i> on the main video, with a <i>fade-out = 2s (last parameter)</i>.<br>\n",
    "<i>para_list = [[\"boat_rescaled.jpg\",\"1:50\",\"1:55\",\"2\"]]</i> <br>\n",
    "\n",
    "\n",
    "\n",
    " "
   ]
  },
  {
   "cell_type": "code",
   "execution_count": null,
   "id": "eab9f9fd-9aef-4575-ab08-6876aa9dbaea",
   "metadata": {},
   "outputs": [],
   "source": [
    "para_list = [[\"boat_rescaled.jpg\",\"1:50\",\"1:55\",\"2\"]]\n",
    "output_file = \"marines_5min_img_overlay2.mov\"\n",
    "overlay_video_img_music(main_video, para_list, output_file, crf=23, preset=\"veryfast\")"
   ]
  },
  {
   "cell_type": "markdown",
   "id": "65af65b0-31d9-4258-99bd-9a8a09662bd1",
   "metadata": {},
   "source": [
    "Now run the following and you see the overlay image from 1:50 - 1:55, with fadeout starting at 1:53"
   ]
  },
  {
   "cell_type": "code",
   "execution_count": null,
   "id": "9299f232-8a8a-447b-89b2-4e8f61c7abd7",
   "metadata": {},
   "outputs": [],
   "source": [
    "%%HTML\n",
    "<iframe width=\"560\" height=\"315\" src=\"https://www.youtube.com/embed/EZ3qWLFfw2M\" frameborder=\"0\" allowfullscreen></iframe>"
   ]
  },
  {
   "cell_type": "markdown",
   "id": "42cc29bd-f08c-46cb-a805-ddcf43064e42",
   "metadata": {},
   "source": [
    "<h5>Overlaying music</h5>\n",
    "Finally, we overlay music. Here is the parameter list for music:<br><br>\n",
    "\n",
    "<i>end_time = get_video_length(main_video)</i><br>\n",
    "<i>para_list = [[\"media_files/Mozart.wav\",\"0:30\",f\"{end_time}\",3,4,2]]</i><br><br>\n",
    "We want to overlay <i>\"media_files/Mozart.wav\"(1st parameter)</i> from <i>time=30 seconds(2nd parameter)</i> to <i>the end(3rd parameter)</i> of the main video (the end time is retrieved via <i>get_video_length()</i>), with a <i>fade-in</i> and <i>fade-out</i> time = <i>3(4th parameter)</i> and <i>4 seconds(5th parameter)</i> respectively. And we want to make the music volume <i>2 times </i> the original.<br>\n",
    "\n",
    "If the music has a shorter duration than the overlay time, it would repeat itself. For the overlay time parameters(2nd and 3rd parameters), they can be input as an integer, or as \"mm:ss\" or \"hh:mm:ss\". Fade-in and fade-out should be in seconds(an integer)<br><br>"
   ]
  },
  {
   "cell_type": "code",
   "execution_count": null,
   "id": "1d5b7a82-e2e4-4575-a2be-d50caa2603ff",
   "metadata": {},
   "outputs": [],
   "source": [
    "main_video = \"marines_5min_new.mov\"\n",
    "end_time = get_video_length(main_video)\n",
    "para_list = [[\"media_files/Mozart.wav\",\"0:30\",f\"{end_time}\",3,4,2]]\n",
    "outputfile = \"marines_5min_music.mov\"\n",
    "overlay_video_img_music(main_video, para_list, outputfile, crf=23, preset=\"fast\")"
   ]
  },
  {
   "cell_type": "markdown",
   "id": "d8ffe39f-7d83-4093-bda2-d04ad7dd5a2b",
   "metadata": {},
   "source": [
    "Now run the following and you can hear the music starting from time = 30s to the end "
   ]
  },
  {
   "cell_type": "code",
   "execution_count": null,
   "id": "a70bd707-6a60-4d51-bb35-e76592b7df0c",
   "metadata": {},
   "outputs": [],
   "source": [
    "%%HTML\n",
    "<iframe width=\"560\" height=\"315\" src=\"https://www.youtube.com/embed/ane1G4ckd_Q\" frameborder=\"0\" allowfullscreen></iframe>"
   ]
  },
  {
   "cell_type": "markdown",
   "id": "b17ff20f-206d-4fd5-9939-89595ad59593",
   "metadata": {},
   "source": [
    "<h3 align = center>Overlaying everything</h3>\n",
    "Now we come to the most critical part - overlaying everthing. We have a main video <i>marines_5min_new.mov</i>\n",
    "Here are what we want to overlay:<br><br>\n",
    "1. overlay the video <i>media_files/Aumun_Background.mov</i> from 0:20-0:30 of the main video. <i>media_files/Aumun_Background.mov</i> should be extracted from time=5s. No fade-out time.<br>\n",
    "2. overlay the image-turn-video <i>boat_video.mov </i> from 3:30-3:35 of the main video. We already make <i>boat_video.mov </i> 5s.<br>\n",
    "3. overlay the video <i>media_files/Mountain_Forest.mov</i> from 4:00-4:15 of the main video. <i>media_files/Mountain_Forest.mov</i> should be extracted from the start. Fade-out time = 3s<br>\n",
    "4. Overlay the image <i>media_files/bridge.jpg</i> from 0:10-0:15 of the main video. Fade-out = 1s.<br>\n",
    "5. Overlay the image <i>media_files/kochi.jpg</i> from 2:00-2:15 of the main video. Fade-out = 5s.<br>\n",
    "6. Overlay the image <i>media_files/cat.jpg</i> from 3:00-3:03 of the main video. No fade-out.<br>\n",
    "7. Overlay the music <i>media_files/Mozart.wav</i> from 0:10-3:00 of the main video. Fade-in and fade-out = 5s. Music volume 3 times the original.<br>\n",
    "8. Overlay the music <i>media_files/Rachmaninoff.wav</i> from 3:10-the end of the main video. Neither fade-in nor fade-out.Original volume.<br><br>\n",
    "\n",
    "When we define the parameter list, we first have to categorize them, then put them in order of appearance. Like the above, I put video first, then image and finally music. They are already in order of appearance. The parameter list looks like this:<br><br>\n",
    "<i>\n",
    "end_time = get_video_length(main_video)<br>\n",
    "para_list = [[\"media_files/Aumun_Background.mov\",\"0:20\",\"0:30\",\"0:05\",0],<br>\n",
    "             [\"boat_video.mov\",\"3:30\",\"3:35\",\"0:00\",0],<br>\n",
    "             [\"media_files/Mountain_Forest.mov\",\"4:00\",\"4:15\",\"0:00\",3],<br>\n",
    "             [\"media_files/kochi.jpg\",\"1:50\",\"1:55\",\"2\"],<br>\n",
    "             [\"media_files/bridge.jpg\",\"2:00\",\"2:15\",\"5\"],<br>\n",
    "             [\"media_files/cat.jpg\",\"3:00\",\"3:03\",\"0\"],<br>\n",
    "             [\"media_files/Mozart.wav\",\"0:10\",\"3:00\",5,5,3],<br>\n",
    "             [\"media_files/Rachmaninoff.wav\",\"3:10\",f\"{end_time}\",0,0,1]]<br>\n",
    "\n",
    "\n",
    "</i>\n",
    "\n",
    "Let's create the final product.<br>"
   ]
  },
  {
   "cell_type": "code",
   "execution_count": null,
   "id": "787468f7-2075-4825-8bec-aa952e60f8e0",
   "metadata": {},
   "outputs": [],
   "source": [
    "from video_commands import *\n",
    "main_video = \"marines_5min_new.mov\"\n",
    "end_time = get_video_length(main_video)\n",
    "para_list = [[\"media_files/Aumun_Background.mov\",\"0:20\",\"0:30\",\"0:05\",0],\n",
    "[\"boat_video.mov\",\"3:30\",\"3:35\",\"0:00\",0],\n",
    "[\"media_files/Mountain_Forest.mov\",\"4:00\",\"4:15\",\"0:00\",3],\n",
    "[\"media_files/kochi.jpg\",\"1:50\",\"1:55\",\"2\"],\n",
    "[\"media_files/bridge.jpg\",\"2:00\",\"2:15\",\"5\"],\n",
    "[\"media_files/cat.jpg\",\"3:00\",\"3:03\",\"0\"],\n",
    "[\"media_files/Mozart.wav\",\"0:10\",\"3:00\",5,5,3],\n",
    "[\"media_files/Rachmaninoff.wav\",\"3:10\",f\"{end_time}\",0,0,1]]\n",
    "output_file = \"marines_5min_all_overlay.mov\"\n",
    "overlay_video_img_music(main_video, para_list, output_file, crf=23, preset=\"veryfast\")"
   ]
  },
  {
   "cell_type": "markdown",
   "id": "7f1d7046-1f9a-4100-bd3e-4e283d825a50",
   "metadata": {},
   "source": [
    "Now run the following and you can see:\n",
    "1) 0:10 - 3:00 music\n",
    "2) 0:20 - 0:30 an overlay video with no fadeout\n",
    "3) 1:50 - 1:55 an overlay image with fadeout = 2s\n",
    "4) 2:00 - 2:15 an overlay image with fadeout = 5s\n",
    "5) 3:00 - 3:03 an overlay image with no fadeout\n",
    "6) 3:10 - the end music\n",
    "7) 3:30 - 3:35 an overlay video which zooms in to the boat\n",
    "8) 4:00 - 4:15 an overlay video with fadeout = 3s"
   ]
  },
  {
   "cell_type": "code",
   "execution_count": null,
   "id": "02cac55b-9105-4b60-9d88-455d05e3dec3",
   "metadata": {},
   "outputs": [],
   "source": [
    "%%HTML\n",
    "<iframe width=\"560\" height=\"315\" src=\"https://www.youtube.com/embed/GYVAkAYAVwo\" frameborder=\"0\" allowfullscreen></iframe>"
   ]
  },
  {
   "cell_type": "markdown",
   "id": "ccd54123-e6df-40c2-bb2f-5c59cc12f652",
   "metadata": {},
   "source": [
    "<h3 align=center> Burning in subtitle</h3>\n",
    "Now, the video is done. When can get back to the subtitle we create at the beginning. If you want soft subtitle and upload it to youtube, the srt file is fine. If you want more complicated subtitle with styling, then ass file would serve the purpose. Now let's convert the subtitle from srt to ass format:"
   ]
  },
  {
   "cell_type": "code",
   "execution_count": null,
   "id": "5c166cd9-4e21-4f00-a013-d664b305eedb",
   "metadata": {},
   "outputs": [],
   "source": [
    "srt_file = \"subtitle.srt\" #input file\n",
    "ass_file = \"subtitle.ass\" #output file\n",
    "main_video = \"marines_5min_new.mov\"\n",
    "#the ass file has a resolution which is the same as the dimension of the main video\n",
    "video_width, video_height = get_media_dimensions(main_video)\n",
    "srt_to_ass(srt_file, ass_file, video_width, video_height, fontname=\"Arial\", fontsize=24)"
   ]
  },
  {
   "cell_type": "markdown",
   "id": "e9d26ac5-f570-4572-9729-a50cd8fecd36",
   "metadata": {},
   "source": [
    "I usally open the video with Elmedia and drag in the ass subtitle to see if any modification is needed. If you want to change the font style and font size, it is easy. If you want to lower the position in which the subtitle appears, then you have to go to the code (<i>video_commands.py</i>), look for the function <i>srt_to_ass()</i>, and look up the line:<br>\n",
    "<i>event = f\"Dialogue: 0,{start_ass},{end_ass},Default,,0,0,0,,{text}\"</i><br><br>\n",
    "<i>0,0,0</i> represents the left, right and vertical margin, respectively. If you want to move up the subtitle, then increase the vertical margin. The first two \"0\" sets the subtitle in the middle.<br>\n"
   ]
  },
  {
   "cell_type": "markdown",
   "id": "9f5a5beb-39ea-4675-bf65-d20c800cf60e",
   "metadata": {},
   "source": [
    "If the ass file is fixed. We can burn in to the main video. This function works for both <i>srt</i> and <i>ass</i> files."
   ]
  },
  {
   "cell_type": "code",
   "execution_count": null,
   "id": "3b1922ef-bfdb-49f5-9d93-202ab0e26429",
   "metadata": {},
   "outputs": [],
   "source": [
    "subtitle_file = \"subtitle.ass\"\n",
    "main_video = \"marines_5min_all_overlay.mov\"\n",
    "output_video = \"marines_subtitle.mov\"\n",
    "#the font here is only for srt files\n",
    "burn_subtitles(main_video, subtitle_file, output_video, font=\"Arial\", crf =18, preset=\"veryfast\")"
   ]
  },
  {
   "cell_type": "markdown",
   "id": "8dff988f-7da2-4e1d-90ec-6799d5ce7091",
   "metadata": {},
   "source": [
    "Now run the following and you can see the video with the subtitle embedded (hard subtitle)"
   ]
  },
  {
   "cell_type": "code",
   "execution_count": null,
   "id": "49a02569-8c7b-4fbd-bf57-98db25c9ab63",
   "metadata": {},
   "outputs": [],
   "source": [
    "%%HTML\n",
    "<iframe width=\"560\" height=\"315\" src=\"https://www.youtube.com/embed/X-WRoG0x6JI\" frameborder=\"0\" allowfullscreen></iframe>"
   ]
  },
  {
   "cell_type": "markdown",
   "id": "b8a85ee5-1084-43fa-9f92-031311b41a0a",
   "metadata": {},
   "source": [
    "<h3 align=center>Creating Credits</h3>\n",
    "For my own video, there is still one last part - credits at the end. I first produce a template called <i>end_credits_template.ass</i>, with some fixed lines which appear at the end. Then I have a list of people contributing to the video called <i>contributors.txt</i>. The file looks like this:\n",
    "<i>\n",
    "Director: XXX\n",
    "Production Crew: AAA\n",
    "                 ABC\n",
    "Music: XYZ</i>\n",
    "\n",
    "I set the above as rolling subtitles. If you want something else, just modify the code. The following first creates an ass file using the <i>end_credits_template.ass</i> and <i>contributors.txt</i>. Then the ass file is embedded to a video with a black background. There is background music for this video. <br><br>\n",
    "Here are the parameters:<br>\n",
    "The first line of <i>contributors.txt</i> appears at time = 1.4s(<i>first_start</i>). Each line lasts for 6s(<i>each_duration_s</i>)(Every line rolls up). For <i>line_offset</i> and <i>fallback_duration_s</i>, I don't really remember what they are ...The ass file has a resolution which matches the size of the main video.<br><br>\n",
    "<i>end_credits_ass(template_file, txt_file, output_file, width, height,\n",
    "                   first_start=\"0:00:01.40\", each_duration_s=6.0,\n",
    "                   line_offset_s=0.60,\n",
    "                   fallback_duration_s=4.0)</i>\n",
    "<br><br>\n",
    "Next, create the video by embedding the above ass subtitle. Enter a background music as <i>song_file</i> with a default <i>volume</i> of 1.0. Fadein and fadeout are for the background music. <i>end_second</i> is the time between the end of the last credit line and the end of the video.<br><br>\n",
    "<i>\n",
    "create_ending_film(ass_file, song_file, output_file, width, height,\n",
    "                       volume=1.0, end_second=5, fadein=5, fadeout=10,\n",
    "                       bg_video=None,video_fadeout=4)\n",
    "\n",
    "</i><br>\n",
    "Now let's run the code.<br><br>"
   ]
  },
  {
   "cell_type": "code",
   "execution_count": null,
   "id": "0e2dcc44-9dc3-41a8-ae62-f3c76b02c2ea",
   "metadata": {},
   "outputs": [],
   "source": [
    "template_file = \"end_credits_template.ass\"\n",
    "txt_file = \"contributors.txt\"\n",
    "output_file = \"end_credits.ass\" # This includes the above two files\n",
    "width, height = get_media_dimensions(main_video)\n",
    "#an ass file is created\n",
    "end_credits_ass(template_file, txt_file, output_file, width, height,\n",
    "                   first_start=\"0:00:01.40\", each_duration_s=6.0,\n",
    "                   line_offset_s=0.60,\n",
    "                   fallback_duration_s=4.0)\n",
    "#embed the ass file to the video\n",
    "ass_file = output_file\n",
    "song_file = \"media_files/Mozart.wav\"\n",
    "output_file = \"end_credits_video.mov\"\n",
    "create_ending_film(ass_file, song_file, output_file, width, height,\n",
    "                       volume=1.0, end_second=5, fadein=5, fadeout=10,\n",
    "                       bg_video=None,video_fadeout=4)"
   ]
  },
  {
   "cell_type": "markdown",
   "id": "53e05828-4ffe-4424-9053-14658988824a",
   "metadata": {},
   "source": [
    "Now run the following cell to see the <i>end_credits_video.mov</i> (The end credit video with the ass file embedded)"
   ]
  },
  {
   "cell_type": "code",
   "execution_count": null,
   "id": "59681269-0d3b-45e9-8757-1b9842bd7671",
   "metadata": {},
   "outputs": [],
   "source": [
    "%%HTML\n",
    "<iframe width=\"560\" height=\"315\" src=\"https://www.youtube.com/embed/7EEhY8OQPOw\" frameborder=\"0\" allowfullscreen></iframe>"
   ]
  },
  {
   "cell_type": "markdown",
   "id": "c850e229-96da-4c30-9e21-ea23c400e7d0",
   "metadata": {},
   "source": [
    "Now it is really the final step, combining the main video with the credit video. If you have a beginning video, you can also combine it here. We call the function <i>combine_video()</i> again.\n"
   ]
  },
  {
   "cell_type": "code",
   "execution_count": null,
   "id": "a9b9b426-6ae6-4802-aabc-223f81462547",
   "metadata": {},
   "outputs": [
    {
     "name": "stdout",
     "output_type": "stream",
     "text": [
      "Temp directory: /var/folders/9g/509r85b95jz43885pc6n7zlr0000gn/T/tmp7i5m58_g\n",
      "Get main video's codec: \n",
      " ffprobe -v error -select_streams v:0 -show_entries stream=width,height,r_frame_rate,duration -of json end_credits_video.mov\n",
      "Re-encode to PCM: \n",
      " ffmpeg -y -i end_credits_video.mov -r 25.0 -c:v libx264 -c:a pcm_s16le -ar 44100 -ac 2 -preset fast -crf 23 end_credits_video_tmp.mov\n",
      "⚡ Re-encoding with audio: end_credits_video.mov → end_credits_video_tmp.mov\n"
     ]
    },
    {
     "name": "stderr",
     "output_type": "stream",
     "text": [
      "ffmpeg version 8.0 Copyright (c) 2000-2025 the FFmpeg developers\n",
      "  built with Apple clang version 15.0.0 (clang-1500.1.0.2.5)\n",
      "  configuration: --prefix=/usr/local/Cellar/ffmpeg/8.0 --enable-shared --enable-pthreads --enable-version3 --cc=clang --host-cflags= --host-ldflags='-Wl,-ld_classic' --enable-ffplay --enable-gnutls --enable-gpl --enable-libaom --enable-libaribb24 --enable-libbluray --enable-libdav1d --enable-libharfbuzz --enable-libjxl --enable-libmp3lame --enable-libopus --enable-librav1e --enable-librist --enable-librubberband --enable-libsnappy --enable-libsrt --enable-libssh --enable-libsvtav1 --enable-libtesseract --enable-libtheora --enable-libvidstab --enable-libvmaf --enable-libvorbis --enable-libvpx --enable-libwebp --enable-libx264 --enable-libx265 --enable-libxml2 --enable-libxvid --enable-lzma --enable-libfontconfig --enable-libfreetype --enable-frei0r --enable-libass --enable-libopencore-amrnb --enable-libopencore-amrwb --enable-libopenjpeg --enable-libspeex --enable-libsoxr --enable-libzmq --enable-libzimg --disable-libjack --disable-indev=jack --enable-videotoolbox --enable-audiotoolbox\n",
      "  libavutil      60.  8.100 / 60.  8.100\n",
      "  libavcodec     62. 11.100 / 62. 11.100\n",
      "  libavformat    62.  3.100 / 62.  3.100\n",
      "  libavdevice    62.  1.100 / 62.  1.100\n",
      "  libavfilter    11.  4.100 / 11.  4.100\n",
      "  libswscale      9.  1.100 /  9.  1.100\n",
      "  libswresample   6.  1.100 /  6.  1.100\n",
      "Input #0, mov,mp4,m4a,3gp,3g2,mj2, from 'end_credits_video.mov':\n",
      "  Metadata:\n",
      "    major_brand     : qt  \n",
      "    minor_version   : 512\n",
      "    compatible_brands: qt  \n",
      "    encoder         : Lavf62.3.100\n",
      "  Duration: 00:00:37.64, start: 0.000000, bitrate: 101 kb/s\n",
      "  Stream #0:0[0x1]: Video: h264 (High) (avc1 / 0x31637661), yuv420p(progressive), 556x412 [SAR 1:1 DAR 139:103], 27 kb/s, 25 fps, 25 tbr, 12800 tbn (default)\n",
      "    Metadata:\n",
      "      handler_name    : VideoHandler\n",
      "      vendor_id       : FFMP\n",
      "      encoder         : Lavc62.11.100 libx264\n",
      "  Stream #0:1[0x2]: Audio: aac (LC) (mp4a / 0x6134706D), 22050 Hz, mono, fltp, 68 kb/s (default)\n",
      "    Metadata:\n",
      "      handler_name    : SoundHandler\n",
      "      vendor_id       : [0][0][0][0]\n",
      "Stream mapping:\n",
      "  Stream #0:0 -> #0:0 (h264 (native) -> h264 (libx264))\n",
      "  Stream #0:1 -> #0:1 (aac (native) -> pcm_s16le (native))\n",
      "Press [q] to stop, [?] for help\n",
      "[libx264 @ 0x7faec0005c80] using SAR=1/1\n",
      "[libx264 @ 0x7faec0005c80] using cpu capabilities: MMX2 SSE2Fast SSSE3 SSE4.2 AVX FMA3 BMI2 AVX2\n",
      "[libx264 @ 0x7faec0005c80] profile High, level 3.0, 4:2:0, 8-bit\n",
      "[libx264 @ 0x7faec0005c80] 264 - core 164 r3108 31e19f9 - H.264/MPEG-4 AVC codec - Copyleft 2003-2023 - http://www.videolan.org/x264.html - options: cabac=1 ref=2 deblock=1:0:0 analyse=0x3:0x113 me=hex subme=6 psy=1 psy_rd=1.00:0.00 mixed_ref=1 me_range=16 chroma_me=1 trellis=1 8x8dct=1 cqm=0 deadzone=21,11 fast_pskip=1 chroma_qp_offset=-2 threads=6 lookahead_threads=1 sliced_threads=0 nr=0 decimate=1 interlaced=0 bluray_compat=0 constrained_intra=0 bframes=3 b_pyramid=2 b_adapt=1 b_bias=0 direct=1 weightb=1 open_gop=0 weightp=1 keyint=250 keyint_min=25 scenecut=40 intra_refresh=0 rc_lookahead=30 rc=crf mbtree=1 crf=23.0 qcomp=0.60 qpmin=0 qpmax=69 qpstep=4 ip_ratio=1.40 aq=1:1.00\n",
      "Output #0, mov, to 'end_credits_video_tmp.mov':\n",
      "  Metadata:\n",
      "    major_brand     : qt  \n",
      "    minor_version   : 512\n",
      "    compatible_brands: qt  \n",
      "    encoder         : Lavf62.3.100\n",
      "  Stream #0:0: Video: h264 (avc1 / 0x31637661), yuv420p(tv, progressive), 556x412 [SAR 1:1 DAR 139:103], q=2-31, 25 fps, 12800 tbn (default)\n",
      "    Metadata:\n",
      "      encoder         : Lavc62.11.100 libx264\n",
      "      handler_name    : VideoHandler\n",
      "      vendor_id       : FFMP\n",
      "    Side data:\n",
      "      cpb: bitrate max/min/avg: 0/0/0 buffer size: 0 vbv_delay: N/A\n",
      "  Stream #0:1: Audio: pcm_s16le (sowt / 0x74776F73), 44100 Hz, stereo, s16, 1411 kb/s (default)\n",
      "    Metadata:\n",
      "      encoder         : Lavc62.11.100 pcm_s16le\n",
      "      handler_name    : SoundHandler\n",
      "      vendor_id       : [0][0][0][0]\n",
      "[out#0/mov @ 0x7faec000ba80] video:127KiB audio:6480KiB subtitle:0KiB other streams:0KiB global headers:0KiB muxing overhead: 0.325633%\n",
      "frame=  941 fps=186 q=-1.0 Lsize=    6629KiB time=00:00:37.56 bitrate=1445.8kbits/s speed=7.41x elapsed=0:00:05.06    \n",
      "[libx264 @ 0x7faec0005c80] frame I:7     Avg QP: 8.60  size:  2266\n",
      "[libx264 @ 0x7faec0005c80] frame P:253   Avg QP:13.02  size:   245\n",
      "[libx264 @ 0x7faec0005c80] frame B:681   Avg QP:16.93  size:    76\n",
      "[libx264 @ 0x7faec0005c80] consecutive B-frames:  2.0%  2.1%  7.0% 88.8%\n",
      "[libx264 @ 0x7faec0005c80] mb I  I16..4: 87.9%  7.8%  4.3%\n",
      "[libx264 @ 0x7faec0005c80] mb P  I16..4:  0.1%  0.0%  0.0%  P16..4:  2.2%  0.6%  0.2%  0.0%  0.0%    skip:96.8%\n",
      "[libx264 @ 0x7faec0005c80] mb B  I16..4:  0.1%  0.0%  0.0%  B16..8:  1.3%  0.4%  0.0%  direct: 0.1%  skip:98.0%  L0:54.1% L1:38.4% BI: 7.4%\n",
      "[libx264 @ 0x7faec0005c80] 8x8 transform intra:7.9% inter:12.4%\n",
      "[libx264 @ 0x7faec0005c80] coded y,uvDC,uvAC intra: 5.1% 0.0% 0.0% inter: 0.4% 0.0% 0.0%\n",
      "[libx264 @ 0x7faec0005c80] i16 v,h,dc,p: 86%  9%  5%  0%\n",
      "[libx264 @ 0x7faec0005c80] i8 v,h,dc,ddl,ddr,vr,hd,vl,hu: 51%  9% 39%  0%  0%  0%  0%  0%  0%\n",
      "[libx264 @ 0x7faec0005c80] i4 v,h,dc,ddl,ddr,vr,hd,vl,hu: 34% 14% 28%  3%  3%  6%  4%  5%  3%\n",
      "[libx264 @ 0x7faec0005c80] i8c dc,h,v,p: 100%  0%  0%  0%\n",
      "[libx264 @ 0x7faec0005c80] Weighted P-Frames: Y:0.8% UV:0.0%\n",
      "[libx264 @ 0x7faec0005c80] ref P L0: 69.2% 30.8%\n",
      "[libx264 @ 0x7faec0005c80] ref B L0: 67.5% 32.5%\n",
      "[libx264 @ 0x7faec0005c80] ref B L1: 71.9% 28.1%\n",
      "[libx264 @ 0x7faec0005c80] kb/s:27.56\n"
     ]
    },
    {
     "name": "stdout",
     "output_type": "stream",
     "text": [
      "new width height: 556 412\n",
      "Rescaling video \n",
      ": ffmpeg -y -i end_credits_video_tmp.mov -vf scale=556:412,pad=556:412:0:0:black -c:v libx264 -preset fast -crf 23 -c:a copy end_credits_video_reencoded.mov\n",
      "ffmpeg version 8.0 Copyright (c) 2000-2025 the FFmpeg developers\n",
      "  built with Apple clang version 15.0.0 (clang-1500.1.0.2.5)\n",
      "  configuration: --prefix=/usr/local/Cellar/ffmpeg/8.0 --enable-shared --enable-pthreads --enable-version3 --cc=clang --host-cflags= --host-ldflags='-Wl,-ld_classic' --enable-ffplay --enable-gnutls --enable-gpl --enable-libaom --enable-libaribb24 --enable-libbluray --enable-libdav1d --enable-libharfbuzz --enable-libjxl --enable-libmp3lame --enable-libopus --enable-librav1e --enable-librist --enable-librubberband --enable-libsnappy --enable-libsrt --enable-libssh --enable-libsvtav1 --enable-libtesseract --enable-libtheora --enable-libvidstab --enable-libvmaf --enable-libvorbis --enable-libvpx --enable-libwebp --enable-libx264 --enable-libx265 --enable-libxml2 --enable-libxvid --enable-lzma --enable-libfontconfig --enable-libfreetype --enable-frei0r --enable-libass --enable-libopencore-amrnb --enable-libopencore-amrwb --enable-libopenjpeg --enable-libspeex --enable-libsoxr --enable-libzmq --enable-libzimg --disable-libjack --disable-indev=jack --enable-videotoolbox --enable-audiotoolbox\n",
      "  libavutil      60.  8.100 / 60.  8.100\n",
      "  libavcodec     62. 11.100 / 62. 11.100\n",
      "  libavformat    62.  3.100 / 62.  3.100\n",
      "  libavdevice    62.  1.100 / 62.  1.100\n",
      "  libavfilter    11.  4.100 / 11.  4.100\n",
      "  libswscale      9.  1.100 /  9.  1.100\n",
      "  libswresample   6.  1.100 /  6.  1.100\n",
      "Input #0, mov,mp4,m4a,3gp,3g2,mj2, from 'end_credits_video_tmp.mov':\n",
      "  Metadata:\n",
      "    major_brand     : qt  \n",
      "    minor_version   : 512\n",
      "    compatible_brands: qt  \n",
      "    encoder         : Lavf62.3.100\n",
      "  Duration: 00:00:37.64, start: 0.000000, bitrate: 1442 kb/s\n",
      "  Stream #0:0[0x1]: Video: h264 (High) (avc1 / 0x31637661), yuv420p(progressive), 556x412 [SAR 1:1 DAR 139:103], 27 kb/s, 25 fps, 25 tbr, 12800 tbn (default)\n",
      "    Metadata:\n",
      "      handler_name    : VideoHandler\n",
      "      vendor_id       : FFMP\n",
      "      encoder         : Lavc62.11.100 libx264\n",
      "  Stream #0:1[0x2]: Audio: pcm_s16le (sowt / 0x74776F73), 44100 Hz, stereo, s16, 1411 kb/s (default)\n",
      "    Metadata:\n",
      "      handler_name    : SoundHandler\n",
      "      vendor_id       : [0][0][0][0]\n",
      "Stream mapping:\n",
      "  Stream #0:0 -> #0:0 (h264 (native) -> h264 (libx264))\n",
      "  Stream #0:1 -> #0:1 (copy)\n",
      "Press [q] to stop, [?] for help\n",
      "[libx264 @ 0x7fa0ff104240] using SAR=1/1\n",
      "[libx264 @ 0x7fa0ff104240] using cpu capabilities: MMX2 SSE2Fast SSSE3 SSE4.2 AVX FMA3 BMI2 AVX2\n",
      "[libx264 @ 0x7fa0ff104240] profile High, level 3.0, 4:2:0, 8-bit\n",
      "[libx264 @ 0x7fa0ff104240] 264 - core 164 r3108 31e19f9 - H.264/MPEG-4 AVC codec - Copyleft 2003-2023 - http://www.videolan.org/x264.html - options: cabac=1 ref=2 deblock=1:0:0 analyse=0x3:0x113 me=hex subme=6 psy=1 psy_rd=1.00:0.00 mixed_ref=1 me_range=16 chroma_me=1 trellis=1 8x8dct=1 cqm=0 deadzone=21,11 fast_pskip=1 chroma_qp_offset=-2 threads=6 lookahead_threads=1 sliced_threads=0 nr=0 decimate=1 interlaced=0 bluray_compat=0 constrained_intra=0 bframes=3 b_pyramid=2 b_adapt=1 b_bias=0 direct=1 weightb=1 open_gop=0 weightp=1 keyint=250 keyint_min=25 scenecut=40 intra_refresh=0 rc_lookahead=30 rc=crf mbtree=1 crf=23.0 qcomp=0.60 qpmin=0 qpmax=69 qpstep=4 ip_ratio=1.40 aq=1:1.00\n",
      "Output #0, mov, to 'end_credits_video_reencoded.mov':\n",
      "  Metadata:\n",
      "    major_brand     : qt  \n",
      "    minor_version   : 512\n",
      "    compatible_brands: qt  \n",
      "    encoder         : Lavf62.3.100\n",
      "  Stream #0:0: Video: h264 (avc1 / 0x31637661), yuv420p(tv, progressive), 556x412 [SAR 1:1 DAR 139:103], q=2-31, 25 fps, 12800 tbn (default)\n",
      "    Metadata:\n",
      "      encoder         : Lavc62.11.100 libx264\n",
      "      handler_name    : VideoHandler\n",
      "      vendor_id       : FFMP\n",
      "    Side data:\n",
      "      cpb: bitrate max/min/avg: 0/0/0 buffer size: 0 vbv_delay: N/A\n",
      "  Stream #0:1: Audio: pcm_s16le (sowt / 0x74776F73), 44100 Hz, stereo, s16, 1411 kb/s (default)\n",
      "    Metadata:\n",
      "      handler_name    : SoundHandler\n",
      "      vendor_id       : [0][0][0][0]\n",
      "frame=   74 fps=0.0 q=28.0 size=     256KiB time=00:00:02.88 bitrate= 728.3kbits/s speed=5.72x elapsed=0:00:00.50    \n",
      "frame=  159 fps=158 q=28.0 size=    1024KiB time=00:00:06.28 bitrate=1335.8kbits/s speed=6.24x elapsed=0:00:01.00    \n",
      "frame=  245 fps=162 q=28.0 size=    1536KiB time=00:00:09.72 bitrate=1294.6kbits/s speed=6.44x elapsed=0:00:01.50    \n",
      "frame=  344 fps=171 q=28.0 size=    2304KiB time=00:00:13.68 bitrate=1379.7kbits/s speed=6.79x elapsed=0:00:02.01    \n",
      "frame=  455 fps=181 q=28.0 size=    3072KiB time=00:00:18.12 bitrate=1388.9kbits/s speed= 7.2x elapsed=0:00:02.51    \n",
      "frame=  580 fps=192 q=28.0 size=    3840KiB time=00:00:23.12 bitrate=1360.6kbits/s speed=7.66x elapsed=0:00:03.01    \n",
      "frame=  700 fps=199 q=28.0 size=    4864KiB time=00:00:27.92 bitrate=1427.2kbits/s speed=7.93x elapsed=0:00:03.51    \n",
      "frame=  828 fps=206 q=28.0 size=    5632KiB time=00:00:33.04 bitrate=1396.4kbits/s speed=8.22x elapsed=0:00:04.01    \n",
      "[out#0/mov @ 0x7fa0ff10cc00] video:120KiB audio:6480KiB subtitle:0KiB other streams:0KiB global headers:0KiB muxing overhead: 0.386122%\n",
      "frame=  941 fps=214 q=-1.0 Lsize=    6626KiB time=00:00:37.56 bitrate=1445.1kbits/s speed=8.53x elapsed=0:00:04.40    \n",
      "[libx264 @ 0x7fa0ff104240] frame I:7     Avg QP: 8.73  size:  2248\n",
      "[libx264 @ 0x7fa0ff104240] frame P:255   Avg QP:12.94  size:   228\n",
      "[libx264 @ 0x7fa0ff104240] frame B:679   Avg QP:17.24  size:    71\n",
      "[libx264 @ 0x7fa0ff104240] consecutive B-frames:  1.7%  3.0%  9.9% 85.4%\n",
      "[libx264 @ 0x7fa0ff104240] mb I  I16..4: 88.0%  7.8%  4.3%\n",
      "[libx264 @ 0x7fa0ff104240] mb P  I16..4:  0.2%  0.0%  0.0%  P16..4:  2.3%  0.6%  0.2%  0.0%  0.0%    skip:96.8%\n",
      "[libx264 @ 0x7fa0ff104240] mb B  I16..4:  0.1%  0.0%  0.0%  B16..8:  1.3%  0.4%  0.0%  direct: 0.1%  skip:98.1%  L0:53.6% L1:39.5% BI: 6.9%\n",
      "[libx264 @ 0x7fa0ff104240] 8x8 transform intra:7.9% inter:12.2%\n",
      "[libx264 @ 0x7fa0ff104240] coded y,uvDC,uvAC intra: 5.8% 0.0% 0.0% inter: 0.3% 0.0% 0.0%\n",
      "[libx264 @ 0x7fa0ff104240] i16 v,h,dc,p: 86%  9%  5%  0%\n",
      "[libx264 @ 0x7fa0ff104240] i8 v,h,dc,ddl,ddr,vr,hd,vl,hu: 52%  7% 40%  0%  0%  0%  0%  0%  0%\n",
      "[libx264 @ 0x7fa0ff104240] i4 v,h,dc,ddl,ddr,vr,hd,vl,hu: 34% 15% 27%  3%  3%  6%  4%  5%  3%\n",
      "[libx264 @ 0x7fa0ff104240] i8c dc,h,v,p: 100%  0%  0%  0%\n",
      "[libx264 @ 0x7fa0ff104240] Weighted P-Frames: Y:0.8% UV:0.0%\n",
      "[libx264 @ 0x7fa0ff104240] ref P L0: 72.6% 27.4%\n",
      "[libx264 @ 0x7fa0ff104240] ref B L0: 70.8% 29.2%\n",
      "[libx264 @ 0x7fa0ff104240] ref B L1: 75.1% 24.9%\n",
      "[libx264 @ 0x7fa0ff104240] kb/s:25.99\n",
      "Successfully created end_credits_video_reencoded.mov\n",
      "⚡ Padding audio to match video: end_credits_video_reencoded.mov → end_credits_video_reencoded_padded.mov\n",
      "Pad/truncate audio to match video duration: \n",
      " ffmpeg -y -i end_credits_video_reencoded.mov -c:v copy -af apad,atrim=0:37.640000 end_credits_video_reencoded_padded.mov\n"
     ]
    },
    {
     "name": "stderr",
     "output_type": "stream",
     "text": [
      "ffmpeg version 8.0 Copyright (c) 2000-2025 the FFmpeg developers\n",
      "  built with Apple clang version 15.0.0 (clang-1500.1.0.2.5)\n",
      "  configuration: --prefix=/usr/local/Cellar/ffmpeg/8.0 --enable-shared --enable-pthreads --enable-version3 --cc=clang --host-cflags= --host-ldflags='-Wl,-ld_classic' --enable-ffplay --enable-gnutls --enable-gpl --enable-libaom --enable-libaribb24 --enable-libbluray --enable-libdav1d --enable-libharfbuzz --enable-libjxl --enable-libmp3lame --enable-libopus --enable-librav1e --enable-librist --enable-librubberband --enable-libsnappy --enable-libsrt --enable-libssh --enable-libsvtav1 --enable-libtesseract --enable-libtheora --enable-libvidstab --enable-libvmaf --enable-libvorbis --enable-libvpx --enable-libwebp --enable-libx264 --enable-libx265 --enable-libxml2 --enable-libxvid --enable-lzma --enable-libfontconfig --enable-libfreetype --enable-frei0r --enable-libass --enable-libopencore-amrnb --enable-libopencore-amrwb --enable-libopenjpeg --enable-libspeex --enable-libsoxr --enable-libzmq --enable-libzimg --disable-libjack --disable-indev=jack --enable-videotoolbox --enable-audiotoolbox\n",
      "  libavutil      60.  8.100 / 60.  8.100\n",
      "  libavcodec     62. 11.100 / 62. 11.100\n",
      "  libavformat    62.  3.100 / 62.  3.100\n",
      "  libavdevice    62.  1.100 / 62.  1.100\n",
      "  libavfilter    11.  4.100 / 11.  4.100\n",
      "  libswscale      9.  1.100 /  9.  1.100\n",
      "  libswresample   6.  1.100 /  6.  1.100\n",
      "Input #0, mov,mp4,m4a,3gp,3g2,mj2, from 'end_credits_video_reencoded.mov':\n",
      "  Metadata:\n",
      "    major_brand     : qt  \n",
      "    minor_version   : 512\n",
      "    compatible_brands: qt  \n",
      "    encoder         : Lavf62.3.100\n",
      "  Duration: 00:00:37.64, start: 0.000000, bitrate: 1441 kb/s\n",
      "  Stream #0:0[0x1]: Video: h264 (High) (avc1 / 0x31637661), yuv420p(progressive), 556x412 [SAR 1:1 DAR 139:103], 26 kb/s, 25 fps, 25 tbr, 12800 tbn (default)\n",
      "    Metadata:\n",
      "      handler_name    : VideoHandler\n",
      "      vendor_id       : FFMP\n",
      "      encoder         : Lavc62.11.100 libx264\n",
      "  Stream #0:1[0x2]: Audio: pcm_s16le (sowt / 0x74776F73), 44100 Hz, stereo, s16, 1411 kb/s (default)\n",
      "    Metadata:\n",
      "      handler_name    : SoundHandler\n",
      "      vendor_id       : [0][0][0][0]\n",
      "Stream mapping:\n",
      "  Stream #0:0 -> #0:0 (copy)\n",
      "  Stream #0:1 -> #0:1 (pcm_s16le (native) -> aac (native))\n",
      "Press [q] to stop, [?] for help\n",
      "Output #0, mov, to 'end_credits_video_reencoded_padded.mov':\n",
      "  Metadata:\n",
      "    major_brand     : qt  \n",
      "    minor_version   : 512\n",
      "    compatible_brands: qt  \n",
      "    encoder         : Lavf62.3.100\n",
      "  Stream #0:0: Video: h264 (High) (avc1 / 0x31637661), yuv420p(progressive), 556x412 [SAR 1:1 DAR 139:103], q=2-31, 26 kb/s, 25 fps, 25 tbr, 12800 tbn (default)\n",
      "    Metadata:\n",
      "      handler_name    : VideoHandler\n",
      "      vendor_id       : FFMP\n",
      "      encoder         : Lavc62.11.100 libx264\n",
      "  Stream #0:1: Audio: aac (LC) (mp4a / 0x6134706D), 44100 Hz, stereo, fltp, 128 kb/s (default)\n",
      "    Metadata:\n",
      "      encoder         : Lavc62.11.100 aac\n",
      "      handler_name    : SoundHandler\n",
      "      vendor_id       : [0][0][0][0]\n",
      "[out#0/mov @ 0x7fd414004a00] video:120KiB audio:589KiB subtitle:0KiB other streams:0KiB global headers:0KiB muxing overhead: 4.512528%\n",
      "frame=  941 fps=352 q=-1.0 Lsize=     741KiB time=00:00:37.56 bitrate= 161.6kbits/s speed=  14x elapsed=0:00:02.67    \n",
      "[aac @ 0x7fd414007700] Qavg: 1211.492\n"
     ]
    },
    {
     "name": "stdout",
     "output_type": "stream",
     "text": [
      "✅ Final re-encoded + padded file: end_credits_video_reencoded_padded.mov\n",
      "Get main video's codec: \n",
      " ffprobe -v error -select_streams v:0 -show_entries stream=width,height,r_frame_rate,duration -of json end_credits_video.mov\n",
      "Re-encode to PCM: \n",
      " ffmpeg -y -i marines_5min_img_overlay.mov -r 25.0 -c:v libx264 -c:a pcm_s16le -ar 44100 -ac 2 -preset fast -crf 23 marines_5min_img_overlay_tmp.mov\n",
      "⚡ Re-encoding with audio: marines_5min_img_overlay.mov → marines_5min_img_overlay_tmp.mov\n"
     ]
    },
    {
     "name": "stderr",
     "output_type": "stream",
     "text": [
      "ffmpeg version 8.0 Copyright (c) 2000-2025 the FFmpeg developers\n",
      "  built with Apple clang version 15.0.0 (clang-1500.1.0.2.5)\n",
      "  configuration: --prefix=/usr/local/Cellar/ffmpeg/8.0 --enable-shared --enable-pthreads --enable-version3 --cc=clang --host-cflags= --host-ldflags='-Wl,-ld_classic' --enable-ffplay --enable-gnutls --enable-gpl --enable-libaom --enable-libaribb24 --enable-libbluray --enable-libdav1d --enable-libharfbuzz --enable-libjxl --enable-libmp3lame --enable-libopus --enable-librav1e --enable-librist --enable-librubberband --enable-libsnappy --enable-libsrt --enable-libssh --enable-libsvtav1 --enable-libtesseract --enable-libtheora --enable-libvidstab --enable-libvmaf --enable-libvorbis --enable-libvpx --enable-libwebp --enable-libx264 --enable-libx265 --enable-libxml2 --enable-libxvid --enable-lzma --enable-libfontconfig --enable-libfreetype --enable-frei0r --enable-libass --enable-libopencore-amrnb --enable-libopencore-amrwb --enable-libopenjpeg --enable-libspeex --enable-libsoxr --enable-libzmq --enable-libzimg --disable-libjack --disable-indev=jack --enable-videotoolbox --enable-audiotoolbox\n",
      "  libavutil      60.  8.100 / 60.  8.100\n",
      "  libavcodec     62. 11.100 / 62. 11.100\n",
      "  libavformat    62.  3.100 / 62.  3.100\n",
      "  libavdevice    62.  1.100 / 62.  1.100\n",
      "  libavfilter    11.  4.100 / 11.  4.100\n",
      "  libswscale      9.  1.100 /  9.  1.100\n",
      "  libswresample   6.  1.100 /  6.  1.100\n",
      "Input #0, mov,mp4,m4a,3gp,3g2,mj2, from 'marines_5min_img_overlay.mov':\n",
      "  Metadata:\n",
      "    major_brand     : qt  \n",
      "    minor_version   : 512\n",
      "    compatible_brands: qt  \n",
      "    encoder         : Lavf62.3.100\n",
      "  Duration: 00:05:15.05, start: 0.000000, bitrate: 674 kb/s\n",
      "  Stream #0:0[0x1]: Video: h264 (High) (avc1 / 0x31637661), yuv420p(progressive), 556x412 [SAR 1:1 DAR 139:103], 483 kb/s, 25 fps, 25 tbr, 12800 tbn (default)\n",
      "    Metadata:\n",
      "      handler_name    : VideoHandler\n",
      "      vendor_id       : FFMP\n",
      "      encoder         : Lavc62.11.100 libx264\n",
      "  Stream #0:1[0x2]: Audio: aac (LC) (mp4a / 0x6134706D), 44100 Hz, stereo, fltp, 184 kb/s (default)\n",
      "    Metadata:\n",
      "      handler_name    : SoundHandler\n",
      "      vendor_id       : [0][0][0][0]\n",
      "Stream mapping:\n",
      "  Stream #0:0 -> #0:0 (h264 (native) -> h264 (libx264))\n",
      "  Stream #0:1 -> #0:1 (aac (native) -> pcm_s16le (native))\n",
      "Press [q] to stop, [?] for help\n",
      "[libx264 @ 0x7f7f8170c680] using SAR=1/1\n",
      "[libx264 @ 0x7f7f8170c680] using cpu capabilities: MMX2 SSE2Fast SSSE3 SSE4.2 AVX FMA3 BMI2 AVX2\n",
      "[libx264 @ 0x7f7f8170c680] profile High, level 3.0, 4:2:0, 8-bit\n",
      "[libx264 @ 0x7f7f8170c680] 264 - core 164 r3108 31e19f9 - H.264/MPEG-4 AVC codec - Copyleft 2003-2023 - http://www.videolan.org/x264.html - options: cabac=1 ref=2 deblock=1:0:0 analyse=0x3:0x113 me=hex subme=6 psy=1 psy_rd=1.00:0.00 mixed_ref=1 me_range=16 chroma_me=1 trellis=1 8x8dct=1 cqm=0 deadzone=21,11 fast_pskip=1 chroma_qp_offset=-2 threads=6 lookahead_threads=1 sliced_threads=0 nr=0 decimate=1 interlaced=0 bluray_compat=0 constrained_intra=0 bframes=3 b_pyramid=2 b_adapt=1 b_bias=0 direct=1 weightb=1 open_gop=0 weightp=1 keyint=250 keyint_min=25 scenecut=40 intra_refresh=0 rc_lookahead=30 rc=crf mbtree=1 crf=23.0 qcomp=0.60 qpmin=0 qpmax=69 qpstep=4 ip_ratio=1.40 aq=1:1.00\n",
      "Output #0, mov, to 'marines_5min_img_overlay_tmp.mov':\n",
      "  Metadata:\n",
      "    major_brand     : qt  \n",
      "    minor_version   : 512\n",
      "    compatible_brands: qt  \n",
      "    encoder         : Lavf62.3.100\n",
      "  Stream #0:0: Video: h264 (avc1 / 0x31637661), yuv420p(tv, progressive), 556x412 [SAR 1:1 DAR 139:103], q=2-31, 25 fps, 12800 tbn (default)\n",
      "    Metadata:\n",
      "      encoder         : Lavc62.11.100 libx264\n",
      "      handler_name    : VideoHandler\n",
      "      vendor_id       : FFMP\n",
      "    Side data:\n",
      "      cpb: bitrate max/min/avg: 0/0/0 buffer size: 0 vbv_delay: N/A\n",
      "  Stream #0:1: Audio: pcm_s16le (sowt / 0x74776F73), 44100 Hz, stereo, s16, 1411 kb/s (default)\n",
      "    Metadata:\n",
      "      encoder         : Lavc62.11.100 pcm_s16le\n",
      "      handler_name    : SoundHandler\n",
      "      vendor_id       : [0][0][0][0]\n",
      "[out#0/mov @ 0x7f7f8170b640] video:17927KiB audio:54272KiB subtitle:0KiB other streams:0KiB global headers:0KiB muxing overhead: 0.256278%\n",
      "frame= 7876 fps= 68 q=-1.0 Lsize=   72384KiB time=00:05:14.96 bitrate=1882.7kbits/s speed=2.72x elapsed=0:01:55.66    \n",
      "[libx264 @ 0x7f7f8170c680] frame I:76    Avg QP:20.42  size: 10885\n",
      "[libx264 @ 0x7f7f8170c680] frame P:5092  Avg QP:22.95  size:  3100\n",
      "[libx264 @ 0x7f7f8170c680] frame B:2708  Avg QP:24.03  size:   644\n",
      "[libx264 @ 0x7f7f8170c680] consecutive B-frames: 41.9% 32.4% 13.5% 12.3%\n",
      "[libx264 @ 0x7f7f8170c680] mb I  I16..4: 10.8% 51.6% 37.6%\n",
      "[libx264 @ 0x7f7f8170c680] mb P  I16..4:  2.2%  7.0%  1.6%  P16..4: 45.2% 11.0%  5.7%  0.0%  0.0%    skip:27.3%\n",
      "[libx264 @ 0x7f7f8170c680] mb B  I16..4:  0.4%  0.5%  0.0%  B16..8: 25.9%  3.7%  0.3%  direct: 2.2%  skip:66.9%  L0:43.1% L1:47.6% BI: 9.2%\n",
      "[libx264 @ 0x7f7f8170c680] 8x8 transform intra:63.2% inter:62.1%\n",
      "[libx264 @ 0x7f7f8170c680] coded y,uvDC,uvAC intra: 50.8% 46.3% 3.9% inter: 8.8% 7.4% 0.0%\n",
      "[libx264 @ 0x7f7f8170c680] i16 v,h,dc,p: 32% 34% 19% 15%\n",
      "[libx264 @ 0x7f7f8170c680] i8 v,h,dc,ddl,ddr,vr,hd,vl,hu: 26% 28% 23%  4%  3%  3%  4%  4%  5%\n",
      "[libx264 @ 0x7f7f8170c680] i4 v,h,dc,ddl,ddr,vr,hd,vl,hu: 31% 27% 13%  5%  5%  5%  6%  4%  5%\n",
      "[libx264 @ 0x7f7f8170c680] i8c dc,h,v,p: 60% 20% 17%  3%\n",
      "[libx264 @ 0x7f7f8170c680] Weighted P-Frames: Y:2.5% UV:1.2%\n",
      "[libx264 @ 0x7f7f8170c680] ref P L0: 94.0%  6.0%\n",
      "[libx264 @ 0x7f7f8170c680] ref B L0: 94.8%  5.2%\n",
      "[libx264 @ 0x7f7f8170c680] ref B L1: 99.6%  0.4%\n",
      "[libx264 @ 0x7f7f8170c680] kb/s:466.15\n"
     ]
    },
    {
     "name": "stdout",
     "output_type": "stream",
     "text": [
      "new width height: 556 412\n",
      "Rescaling video \n",
      ": ffmpeg -y -i marines_5min_img_overlay_tmp.mov -vf scale=556:412,pad=556:412:0:0:black -c:v libx264 -preset fast -crf 23 -c:a copy marines_5min_img_overlay_reencoded.mov\n",
      "ffmpeg version 8.0 Copyright (c) 2000-2025 the FFmpeg developers\n",
      "  built with Apple clang version 15.0.0 (clang-1500.1.0.2.5)\n",
      "  configuration: --prefix=/usr/local/Cellar/ffmpeg/8.0 --enable-shared --enable-pthreads --enable-version3 --cc=clang --host-cflags= --host-ldflags='-Wl,-ld_classic' --enable-ffplay --enable-gnutls --enable-gpl --enable-libaom --enable-libaribb24 --enable-libbluray --enable-libdav1d --enable-libharfbuzz --enable-libjxl --enable-libmp3lame --enable-libopus --enable-librav1e --enable-librist --enable-librubberband --enable-libsnappy --enable-libsrt --enable-libssh --enable-libsvtav1 --enable-libtesseract --enable-libtheora --enable-libvidstab --enable-libvmaf --enable-libvorbis --enable-libvpx --enable-libwebp --enable-libx264 --enable-libx265 --enable-libxml2 --enable-libxvid --enable-lzma --enable-libfontconfig --enable-libfreetype --enable-frei0r --enable-libass --enable-libopencore-amrnb --enable-libopencore-amrwb --enable-libopenjpeg --enable-libspeex --enable-libsoxr --enable-libzmq --enable-libzimg --disable-libjack --disable-indev=jack --enable-videotoolbox --enable-audiotoolbox\n",
      "  libavutil      60.  8.100 / 60.  8.100\n",
      "  libavcodec     62. 11.100 / 62. 11.100\n",
      "  libavformat    62.  3.100 / 62.  3.100\n",
      "  libavdevice    62.  1.100 / 62.  1.100\n",
      "  libavfilter    11.  4.100 / 11.  4.100\n",
      "  libswscale      9.  1.100 /  9.  1.100\n",
      "  libswresample   6.  1.100 /  6.  1.100\n",
      "Input #0, mov,mp4,m4a,3gp,3g2,mj2, from 'marines_5min_img_overlay_tmp.mov':\n",
      "  Metadata:\n",
      "    major_brand     : qt  \n",
      "    minor_version   : 512\n",
      "    compatible_brands: qt  \n",
      "    encoder         : Lavf62.3.100\n",
      "  Duration: 00:05:15.05, start: 0.000000, bitrate: 1882 kb/s\n",
      "  Stream #0:0[0x1]: Video: h264 (High) (avc1 / 0x31637661), yuv420p(progressive), 556x412 [SAR 1:1 DAR 139:103], 466 kb/s, 25 fps, 25 tbr, 12800 tbn (default)\n",
      "    Metadata:\n",
      "      handler_name    : VideoHandler\n",
      "      vendor_id       : FFMP\n",
      "      encoder         : Lavc62.11.100 libx264\n",
      "  Stream #0:1[0x2]: Audio: pcm_s16le (sowt / 0x74776F73), 44100 Hz, stereo, s16, 1411 kb/s (default)\n",
      "    Metadata:\n",
      "      handler_name    : SoundHandler\n",
      "      vendor_id       : [0][0][0][0]\n",
      "Stream mapping:\n",
      "  Stream #0:0 -> #0:0 (h264 (native) -> h264 (libx264))\n",
      "  Stream #0:1 -> #0:1 (copy)\n",
      "Press [q] to stop, [?] for help\n",
      "[libx264 @ 0x7f7fe4a10400] using SAR=1/1\n",
      "[libx264 @ 0x7f7fe4a10400] using cpu capabilities: MMX2 SSE2Fast SSSE3 SSE4.2 AVX FMA3 BMI2 AVX2\n",
      "[libx264 @ 0x7f7fe4a10400] profile High, level 3.0, 4:2:0, 8-bit\n",
      "[libx264 @ 0x7f7fe4a10400] 264 - core 164 r3108 31e19f9 - H.264/MPEG-4 AVC codec - Copyleft 2003-2023 - http://www.videolan.org/x264.html - options: cabac=1 ref=2 deblock=1:0:0 analyse=0x3:0x113 me=hex subme=6 psy=1 psy_rd=1.00:0.00 mixed_ref=1 me_range=16 chroma_me=1 trellis=1 8x8dct=1 cqm=0 deadzone=21,11 fast_pskip=1 chroma_qp_offset=-2 threads=6 lookahead_threads=1 sliced_threads=0 nr=0 decimate=1 interlaced=0 bluray_compat=0 constrained_intra=0 bframes=3 b_pyramid=2 b_adapt=1 b_bias=0 direct=1 weightb=1 open_gop=0 weightp=1 keyint=250 keyint_min=25 scenecut=40 intra_refresh=0 rc_lookahead=30 rc=crf mbtree=1 crf=23.0 qcomp=0.60 qpmin=0 qpmax=69 qpstep=4 ip_ratio=1.40 aq=1:1.00\n",
      "Output #0, mov, to 'marines_5min_img_overlay_reencoded.mov':\n",
      "  Metadata:\n",
      "    major_brand     : qt  \n",
      "    minor_version   : 512\n",
      "    compatible_brands: qt  \n",
      "    encoder         : Lavf62.3.100\n",
      "  Stream #0:0: Video: h264 (avc1 / 0x31637661), yuv420p(tv, progressive), 556x412 [SAR 1:1 DAR 139:103], q=2-31, 25 fps, 12800 tbn (default)\n",
      "    Metadata:\n",
      "      encoder         : Lavc62.11.100 libx264\n",
      "      handler_name    : VideoHandler\n",
      "      vendor_id       : FFMP\n",
      "    Side data:\n",
      "      cpb: bitrate max/min/avg: 0/0/0 buffer size: 0 vbv_delay: N/A\n",
      "  Stream #0:1: Audio: pcm_s16le (sowt / 0x74776F73), 44100 Hz, stereo, s16, 1411 kb/s (default)\n",
      "    Metadata:\n",
      "      handler_name    : SoundHandler\n",
      "      vendor_id       : [0][0][0][0]\n",
      "frame=   19 fps=0.0 q=28.0 size=       0KiB time=00:00:00.68 bitrate=   0.4kbits/s speed=1.35x elapsed=0:00:00.50    \n",
      "frame=   58 fps= 57 q=28.0 size=     256KiB time=00:00:02.24 bitrate= 936.4kbits/s speed=2.21x elapsed=0:00:01.01    \n",
      "frame=   97 fps= 64 q=28.0 size=     768KiB time=00:00:03.80 bitrate=1655.7kbits/s speed= 2.5x elapsed=0:00:01.51    \n",
      "frame=  132 fps= 65 q=28.0 size=    1024KiB time=00:00:05.20 bitrate=1613.2kbits/s speed=2.58x elapsed=0:00:02.01    \n",
      "frame=  169 fps= 67 q=28.0 size=    1280KiB time=00:00:06.68 bitrate=1569.8kbits/s speed=2.65x elapsed=0:00:02.52    \n",
      "frame=  206 fps= 68 q=28.0 size=    1536KiB time=00:00:08.16 bitrate=1542.1kbits/s speed= 2.7x elapsed=0:00:03.02    \n",
      "frame=  239 fps= 68 q=28.0 size=    1792KiB time=00:00:09.48 bitrate=1548.6kbits/s speed=2.69x elapsed=0:00:03.52    \n",
      "frame=  276 fps= 69 q=28.0 size=    2304KiB time=00:00:10.96 bitrate=1722.1kbits/s speed=2.72x elapsed=0:00:04.02    \n",
      "frame=  307 fps= 68 q=28.0 size=    2560KiB time=00:00:12.20 bitrate=1719.0kbits/s speed= 2.7x elapsed=0:00:04.52    \n",
      "frame=  339 fps= 67 q=28.0 size=    2816KiB time=00:00:13.48 bitrate=1711.3kbits/s speed=2.68x elapsed=0:00:05.02    \n",
      "frame=  394 fps= 71 q=28.0 size=    3328KiB time=00:00:15.68 bitrate=1738.7kbits/s speed=2.84x elapsed=0:00:05.53    \n",
      "frame=  459 fps= 76 q=28.0 size=    3840KiB time=00:00:18.28 bitrate=1720.9kbits/s speed=3.03x elapsed=0:00:06.03    \n",
      "frame=  520 fps= 80 q=28.0 size=    4352KiB time=00:00:20.72 bitrate=1720.7kbits/s speed=3.17x elapsed=0:00:06.53    \n",
      "frame=  579 fps= 82 q=28.0 size=    5120KiB time=00:00:23.08 bitrate=1817.3kbits/s speed=3.28x elapsed=0:00:07.03    \n",
      "frame=  635 fps= 84 q=28.0 size=    5632KiB time=00:00:25.32 bitrate=1822.2kbits/s speed=3.36x elapsed=0:00:07.54    \n",
      "frame=  696 fps= 87 q=28.0 size=    6144KiB time=00:00:27.76 bitrate=1813.1kbits/s speed=3.45x elapsed=0:00:08.04    \n",
      "frame=  759 fps= 89 q=28.0 size=    6656KiB time=00:00:30.28 bitrate=1800.7kbits/s speed=3.54x elapsed=0:00:08.54    \n",
      "frame=  822 fps= 91 q=28.0 size=    7168KiB time=00:00:32.80 bitrate=1790.3kbits/s speed=3.62x elapsed=0:00:09.05    \n",
      "frame=  881 fps= 92 q=28.0 size=    7936KiB time=00:00:35.16 bitrate=1849.0kbits/s speed=3.68x elapsed=0:00:09.55    \n",
      "frame=  945 fps= 94 q=28.0 size=    8448KiB time=00:00:37.72 bitrate=1834.7kbits/s speed=3.75x elapsed=0:00:10.05    \n",
      "frame= 1006 fps= 95 q=28.0 size=    8960KiB time=00:00:40.16 bitrate=1827.7kbits/s speed= 3.8x elapsed=0:00:10.55    \n",
      "frame= 1061 fps= 96 q=28.0 size=    9472KiB time=00:00:42.36 bitrate=1831.8kbits/s speed=3.83x elapsed=0:00:11.05    \n",
      "frame= 1111 fps= 96 q=28.0 size=    9984KiB time=00:00:44.36 bitrate=1843.8kbits/s speed=3.84x elapsed=0:00:11.55    \n",
      "frame= 1158 fps= 96 q=28.0 size=   10496KiB time=00:00:46.24 bitrate=1859.5kbits/s speed=3.83x elapsed=0:00:12.05    \n",
      "frame= 1217 fps= 97 q=28.0 size=   11008KiB time=00:00:48.60 bitrate=1855.5kbits/s speed=3.87x elapsed=0:00:12.55    \n",
      "frame= 1272 fps= 97 q=28.0 size=   11520KiB time=00:00:50.80 bitrate=1857.7kbits/s speed=3.89x elapsed=0:00:13.06    \n",
      "frame= 1307 fps= 96 q=28.0 size=   11776KiB time=00:00:52.20 bitrate=1848.1kbits/s speed=3.85x elapsed=0:00:13.56    \n",
      "frame= 1352 fps= 96 q=28.0 size=   12032KiB time=00:00:54.00 bitrate=1825.3kbits/s speed=3.84x elapsed=0:00:14.06    \n",
      "frame= 1382 fps= 95 q=28.0 size=   12544KiB time=00:00:55.20 bitrate=1861.6kbits/s speed=3.79x elapsed=0:00:14.57    \n",
      "frame= 1395 fps= 93 q=28.0 size=   12544KiB time=00:00:55.72 bitrate=1844.2kbits/s speed= 3.7x elapsed=0:00:15.07    \n",
      "frame= 1416 fps= 91 q=28.0 size=   12800KiB time=00:00:56.56 bitrate=1853.9kbits/s speed=3.63x elapsed=0:00:15.57    \n",
      "frame= 1439 fps= 90 q=28.0 size=   13056KiB time=00:00:57.48 bitrate=1860.7kbits/s speed=3.58x elapsed=0:00:16.07    \n",
      "frame= 1463 fps= 88 q=28.0 size=   13312KiB time=00:00:58.44 bitrate=1866.1kbits/s speed=3.53x elapsed=0:00:16.57    \n",
      "frame= 1491 fps= 87 q=28.0 size=   13568KiB time=00:00:59.56 bitrate=1866.2kbits/s speed=3.49x elapsed=0:00:17.07    \n",
      "frame= 1522 fps= 87 q=28.0 size=   13824KiB time=00:01:00.80 bitrate=1862.6kbits/s speed=3.46x elapsed=0:00:17.58    \n",
      "frame= 1551 fps= 86 q=28.0 size=   14080KiB time=00:01:01.96 bitrate=1861.6kbits/s speed=3.43x elapsed=0:00:18.08    \n",
      "frame= 1577 fps= 85 q=28.0 size=   14336KiB time=00:01:03.00 bitrate=1864.1kbits/s speed=3.39x elapsed=0:00:18.59    \n",
      "frame= 1604 fps= 84 q=28.0 size=   14592KiB time=00:01:04.08 bitrate=1865.4kbits/s speed=3.36x elapsed=0:00:19.09    \n",
      "frame= 1633 fps= 83 q=28.0 size=   14848KiB time=00:01:05.24 bitrate=1864.4kbits/s speed=3.33x elapsed=0:00:19.59    \n",
      "frame= 1667 fps= 83 q=28.0 size=   15104KiB time=00:01:06.60 bitrate=1857.8kbits/s speed=3.31x elapsed=0:00:20.09    \n",
      "frame= 1695 fps= 82 q=28.0 size=   15360KiB time=00:01:07.72 bitrate=1858.1kbits/s speed=3.29x elapsed=0:00:20.59    \n",
      "frame= 1728 fps= 82 q=28.0 size=   15616KiB time=00:01:09.04 bitrate=1852.9kbits/s speed=3.27x elapsed=0:00:21.10    \n",
      "frame= 1758 fps= 81 q=28.0 size=   15872KiB time=00:01:10.24 bitrate=1851.1kbits/s speed=3.25x elapsed=0:00:21.61    \n",
      "frame= 1781 fps= 81 q=28.0 size=   16128KiB time=00:01:11.16 bitrate=1856.7kbits/s speed=3.22x elapsed=0:00:22.11    \n",
      "frame= 1810 fps= 80 q=28.0 size=   16384KiB time=00:01:12.32 bitrate=1855.9kbits/s speed= 3.2x elapsed=0:00:22.61    \n",
      "frame= 1836 fps= 79 q=28.0 size=   16640KiB time=00:01:13.36 bitrate=1858.2kbits/s speed=3.17x elapsed=0:00:23.12    \n",
      "frame= 1865 fps= 79 q=28.0 size=   16896KiB time=00:01:14.52 bitrate=1857.4kbits/s speed=3.15x elapsed=0:00:23.62    \n",
      "frame= 1891 fps= 78 q=28.0 size=   17152KiB time=00:01:15.56 bitrate=1859.6kbits/s speed=3.13x elapsed=0:00:24.13    \n",
      "frame= 1919 fps= 78 q=28.0 size=   17408KiB time=00:01:16.68 bitrate=1859.8kbits/s speed=3.11x elapsed=0:00:24.63    \n",
      "frame= 1950 fps= 78 q=28.0 size=   17664KiB time=00:01:17.92 bitrate=1857.1kbits/s speed= 3.1x elapsed=0:00:25.14    \n",
      "frame= 1982 fps= 77 q=28.0 size=   17920KiB time=00:01:19.20 bitrate=1853.5kbits/s speed=3.09x elapsed=0:00:25.66    \n",
      "frame= 2007 fps= 77 q=28.0 size=   18176KiB time=00:01:20.20 bitrate=1856.6kbits/s speed=3.07x elapsed=0:00:26.16    \n",
      "frame= 2032 fps= 76 q=28.0 size=   18176KiB time=00:01:21.20 bitrate=1833.7kbits/s speed=3.05x elapsed=0:00:26.66    \n",
      "frame= 2062 fps= 76 q=28.0 size=   18432KiB time=00:01:22.40 bitrate=1832.5kbits/s speed=3.03x elapsed=0:00:27.16    \n",
      "frame= 2084 fps= 75 q=28.0 size=   18688KiB time=00:01:23.28 bitrate=1838.3kbits/s speed=3.01x elapsed=0:00:27.67    \n",
      "frame= 2107 fps= 75 q=28.0 size=   18944KiB time=00:01:24.20 bitrate=1843.1kbits/s speed=2.99x elapsed=0:00:28.17    \n",
      "frame= 2130 fps= 74 q=28.0 size=   19200KiB time=00:01:25.12 bitrate=1847.8kbits/s speed=2.97x elapsed=0:00:28.68    \n",
      "frame= 2148 fps= 74 q=28.0 size=   19200KiB time=00:01:25.84 bitrate=1832.3kbits/s speed=2.94x elapsed=0:00:29.19    \n",
      "frame= 2162 fps= 73 q=28.0 size=   19456KiB time=00:01:26.40 bitrate=1844.7kbits/s speed=2.91x elapsed=0:00:29.70    \n",
      "frame= 2183 fps= 72 q=28.0 size=   19712KiB time=00:01:27.24 bitrate=1851.0kbits/s speed=2.89x elapsed=0:00:30.20    \n",
      "frame= 2202 fps= 72 q=28.0 size=   19712KiB time=00:01:28.00 bitrate=1835.0kbits/s speed=2.87x elapsed=0:00:30.71    \n",
      "frame= 2229 fps= 71 q=28.0 size=   19968KiB time=00:01:29.08 bitrate=1836.3kbits/s speed=2.85x elapsed=0:00:31.21    \n",
      "frame= 2258 fps= 71 q=28.0 size=   20224KiB time=00:01:30.24 bitrate=1835.9kbits/s speed=2.85x elapsed=0:00:31.71    \n",
      "frame= 2351 fps= 73 q=28.0 size=   20992KiB time=00:01:33.96 bitrate=1830.2kbits/s speed=2.92x elapsed=0:00:32.21    \n",
      "frame= 2398 fps= 73 q=28.0 size=   21248KiB time=00:01:35.84 bitrate=1816.2kbits/s speed=2.93x elapsed=0:00:32.72    \n",
      "frame= 2428 fps= 73 q=28.0 size=   21504KiB time=00:01:37.04 bitrate=1815.3kbits/s speed=2.92x elapsed=0:00:33.23    \n",
      "frame= 2460 fps= 73 q=28.0 size=   21760KiB time=00:01:38.32 bitrate=1813.0kbits/s speed=2.91x elapsed=0:00:33.73    \n",
      "frame= 2488 fps= 73 q=28.0 size=   22016KiB time=00:01:39.44 bitrate=1813.7kbits/s speed= 2.9x elapsed=0:00:34.23    \n",
      "frame= 2516 fps= 72 q=28.0 size=   22272KiB time=00:01:40.60 bitrate=1813.6kbits/s speed= 2.9x elapsed=0:00:34.74    \n",
      "frame= 2544 fps= 72 q=28.0 size=   22528KiB time=00:01:41.68 bitrate=1815.0kbits/s speed=2.88x elapsed=0:00:35.25    \n",
      "frame= 2577 fps= 72 q=28.0 size=   22784KiB time=00:01:43.00 bitrate=1812.1kbits/s speed=2.88x elapsed=0:00:35.76    \n",
      "frame= 2603 fps= 72 q=28.0 size=   23040KiB time=00:01:44.04 bitrate=1814.1kbits/s speed=2.87x elapsed=0:00:36.26    \n",
      "frame= 2623 fps= 71 q=28.0 size=   23296KiB time=00:01:44.84 bitrate=1820.3kbits/s speed=2.85x elapsed=0:00:36.76    \n",
      "frame= 2649 fps= 71 q=28.0 size=   23552KiB time=00:01:45.88 bitrate=1822.2kbits/s speed=2.84x elapsed=0:00:37.26    \n",
      "frame= 2672 fps= 71 q=28.0 size=   23808KiB time=00:01:46.80 bitrate=1826.2kbits/s speed=2.83x elapsed=0:00:37.77    \n",
      "frame= 2691 fps= 70 q=28.0 size=   24064KiB time=00:01:47.56 bitrate=1832.8kbits/s speed=2.81x elapsed=0:00:38.27    \n",
      "frame= 2714 fps= 70 q=28.0 size=   24064KiB time=00:01:48.48 bitrate=1817.2kbits/s speed= 2.8x elapsed=0:00:38.78    \n",
      "frame= 2739 fps= 70 q=28.0 size=   24320KiB time=00:01:49.48 bitrate=1819.8kbits/s speed=2.79x elapsed=0:00:39.29    \n",
      "frame= 2758 fps= 69 q=28.0 size=   24576KiB time=00:01:50.24 bitrate=1826.3kbits/s speed=2.77x elapsed=0:00:39.79    \n",
      "frame= 2792 fps= 69 q=28.0 size=   24832KiB time=00:01:51.60 bitrate=1822.8kbits/s speed=2.77x elapsed=0:00:40.30    \n",
      "frame= 2831 fps= 69 q=28.0 size=   25088KiB time=00:01:53.20 bitrate=1815.6kbits/s speed=2.77x elapsed=0:00:40.81    \n",
      "frame= 2853 fps= 69 q=28.0 size=   25344KiB time=00:01:54.04 bitrate=1820.6kbits/s speed=2.76x elapsed=0:00:41.32    \n",
      "frame= 2872 fps= 69 q=28.0 size=   25600KiB time=00:01:54.80 bitrate=1826.8kbits/s speed=2.74x elapsed=0:00:41.83    \n",
      "frame= 2899 fps= 68 q=28.0 size=   25856KiB time=00:01:55.88 bitrate=1827.9kbits/s speed=2.74x elapsed=0:00:42.33    \n",
      "frame= 2925 fps= 68 q=28.0 size=   26112KiB time=00:01:56.92 bitrate=1829.5kbits/s speed=2.73x elapsed=0:00:42.83    \n",
      "frame= 2951 fps= 68 q=28.0 size=   26368KiB time=00:01:58.08 bitrate=1829.3kbits/s speed=2.72x elapsed=0:00:43.34    \n",
      "frame= 2979 fps= 68 q=28.0 size=   26624KiB time=00:01:59.08 bitrate=1831.6kbits/s speed=2.72x elapsed=0:00:43.84    \n",
      "frame= 3008 fps= 68 q=28.0 size=   26880KiB time=00:02:00.24 bitrate=1831.3kbits/s speed=2.71x elapsed=0:00:44.34    \n",
      "frame= 3037 fps= 68 q=28.0 size=   27136KiB time=00:02:01.40 bitrate=1831.1kbits/s speed=2.71x elapsed=0:00:44.84    \n",
      "frame= 3065 fps= 68 q=28.0 size=   27392KiB time=00:02:02.52 bitrate=1831.5kbits/s speed= 2.7x elapsed=0:00:45.35    \n",
      "frame= 3091 fps= 67 q=28.0 size=   27648KiB time=00:02:03.56 bitrate=1833.1kbits/s speed=2.69x elapsed=0:00:45.85    \n",
      "frame= 3117 fps= 67 q=28.0 size=   27648KiB time=00:02:04.60 bitrate=1817.8kbits/s speed=2.69x elapsed=0:00:46.36    \n",
      "frame= 3146 fps= 67 q=28.0 size=   27904KiB time=00:02:05.76 bitrate=1817.7kbits/s speed=2.68x elapsed=0:00:46.86    \n",
      "frame= 3179 fps= 67 q=28.0 size=   28160KiB time=00:02:07.08 bitrate=1815.3kbits/s speed=2.68x elapsed=0:00:47.37    \n",
      "frame= 3212 fps= 67 q=28.0 size=   28672KiB time=00:02:08.40 bitrate=1829.3kbits/s speed=2.68x elapsed=0:00:47.87    \n",
      "frame= 3242 fps= 67 q=28.0 size=   28928KiB time=00:02:09.60 bitrate=1828.5kbits/s speed=2.68x elapsed=0:00:48.38    \n",
      "frame= 3277 fps= 67 q=28.0 size=   29184KiB time=00:02:11.00 bitrate=1825.0kbits/s speed=2.68x elapsed=0:00:48.89    \n",
      "frame= 3298 fps= 67 q=28.0 size=   29440KiB time=00:02:11.84 bitrate=1829.3kbits/s speed=2.67x elapsed=0:00:49.39    \n",
      "frame= 3327 fps= 67 q=28.0 size=   29696KiB time=00:02:13.00 bitrate=1829.1kbits/s speed=2.67x elapsed=0:00:49.90    \n",
      "frame= 3354 fps= 67 q=28.0 size=   29952KiB time=00:02:14.08 bitrate=1830.0kbits/s speed=2.66x elapsed=0:00:50.40    \n",
      "frame= 3387 fps= 67 q=25.0 size=   30208KiB time=00:02:15.40 bitrate=1827.7kbits/s speed=2.66x elapsed=0:00:50.91    \n",
      "frame= 3415 fps= 66 q=28.0 size=   30464KiB time=00:02:16.52 bitrate=1828.0kbits/s speed=2.66x elapsed=0:00:51.41    \n",
      "frame= 3439 fps= 66 q=28.0 size=   30720KiB time=00:02:17.48 bitrate=1830.5kbits/s speed=2.65x elapsed=0:00:51.91    \n",
      "frame= 3470 fps= 66 q=28.0 size=   30976KiB time=00:02:18.72 bitrate=1829.3kbits/s speed=2.65x elapsed=0:00:52.42    \n",
      "frame= 3496 fps= 66 q=28.0 size=   31232KiB time=00:02:19.76 bitrate=1830.7kbits/s speed=2.64x elapsed=0:00:52.92    \n",
      "frame= 3521 fps= 66 q=28.0 size=   31488KiB time=00:02:20.76 bitrate=1832.6kbits/s speed=2.63x elapsed=0:00:53.43    \n",
      "frame= 3545 fps= 66 q=28.0 size=   31488KiB time=00:02:21.72 bitrate=1820.1kbits/s speed=2.63x elapsed=0:00:53.93    \n",
      "frame= 3568 fps= 66 q=28.0 size=   31744KiB time=00:02:22.64 bitrate=1823.1kbits/s speed=2.62x elapsed=0:00:54.44    \n",
      "frame= 3592 fps= 65 q=28.0 size=   32000KiB time=00:02:23.60 bitrate=1825.5kbits/s speed=2.61x elapsed=0:00:54.94    \n",
      "frame= 3616 fps= 65 q=28.0 size=   32256KiB time=00:02:24.56 bitrate=1827.9kbits/s speed=2.61x elapsed=0:00:55.44    \n",
      "frame= 3639 fps= 65 q=28.0 size=   32512KiB time=00:02:25.48 bitrate=1830.8kbits/s speed= 2.6x elapsed=0:00:55.95    \n",
      "frame= 3661 fps= 65 q=28.0 size=   32768KiB time=00:02:26.36 bitrate=1834.1kbits/s speed=2.59x elapsed=0:00:56.45    \n",
      "frame= 3681 fps= 65 q=28.0 size=   32768KiB time=00:02:27.16 bitrate=1824.1kbits/s speed=2.58x elapsed=0:00:56.95    \n",
      "frame= 3704 fps= 64 q=28.0 size=   33024KiB time=00:02:28.08 bitrate=1826.9kbits/s speed=2.58x elapsed=0:00:57.45    \n",
      "frame= 3726 fps= 64 q=28.0 size=   33280KiB time=00:02:28.96 bitrate=1830.2kbits/s speed=2.57x elapsed=0:00:57.96    \n",
      "frame= 3746 fps= 64 q=28.0 size=   33536KiB time=00:02:29.76 bitrate=1834.4kbits/s speed=2.56x elapsed=0:00:58.46    \n",
      "frame= 3770 fps= 64 q=28.0 size=   33792KiB time=00:02:30.72 bitrate=1836.7kbits/s speed=2.56x elapsed=0:00:58.96    \n",
      "frame= 3794 fps= 64 q=28.0 size=   34048KiB time=00:02:31.68 bitrate=1838.9kbits/s speed=2.55x elapsed=0:00:59.47    \n",
      "frame= 3826 fps= 64 q=28.0 size=   34304KiB time=00:02:32.96 bitrate=1837.2kbits/s speed=2.55x elapsed=0:00:59.97    \n",
      "frame= 3860 fps= 64 q=28.0 size=   34560KiB time=00:02:34.32 bitrate=1834.6kbits/s speed=2.55x elapsed=0:01:00.49    \n",
      "frame= 3938 fps= 65 q=28.0 size=   35328KiB time=00:02:37.44 bitrate=1838.2kbits/s speed=2.58x elapsed=0:01:01.00    \n",
      "frame= 4002 fps= 65 q=28.0 size=   35584KiB time=00:02:40.00 bitrate=1821.9kbits/s speed= 2.6x elapsed=0:01:01.50    \n",
      "frame= 4030 fps= 65 q=28.0 size=   35840KiB time=00:02:41.12 bitrate=1822.3kbits/s speed= 2.6x elapsed=0:01:02.01    \n",
      "frame= 4061 fps= 65 q=28.0 size=   36096KiB time=00:02:42.36 bitrate=1821.3kbits/s speed= 2.6x elapsed=0:01:02.51    \n",
      "frame= 4091 fps= 65 q=28.0 size=   36352KiB time=00:02:43.56 bitrate=1820.7kbits/s speed= 2.6x elapsed=0:01:03.01    \n",
      "frame= 4120 fps= 65 q=28.0 size=   36864KiB time=00:02:44.72 bitrate=1833.4kbits/s speed=2.59x elapsed=0:01:03.51    \n",
      "frame= 4149 fps= 65 q=28.0 size=   37120KiB time=00:02:45.88 bitrate=1833.2kbits/s speed=2.59x elapsed=0:01:04.02    \n",
      "frame= 4177 fps= 65 q=28.0 size=   37376KiB time=00:02:47.00 bitrate=1833.4kbits/s speed=2.59x elapsed=0:01:04.52    \n",
      "frame= 4209 fps= 65 q=28.0 size=   37632KiB time=00:02:48.28 bitrate=1832.0kbits/s speed=2.59x elapsed=0:01:05.02    \n",
      "frame= 4241 fps= 65 q=28.0 size=   37888KiB time=00:02:49.56 bitrate=1830.5kbits/s speed=2.59x elapsed=0:01:05.53    \n",
      "frame= 4274 fps= 65 q=28.0 size=   38144KiB time=00:02:50.88 bitrate=1828.6kbits/s speed=2.59x elapsed=0:01:06.03    \n",
      "frame= 4313 fps= 65 q=28.0 size=   38400KiB time=00:02:52.44 bitrate=1824.2kbits/s speed=2.59x elapsed=0:01:06.54    \n",
      "frame= 4344 fps= 65 q=28.0 size=   38656KiB time=00:02:53.68 bitrate=1823.3kbits/s speed=2.59x elapsed=0:01:07.04    \n",
      "frame= 4379 fps= 65 q=28.0 size=   39168KiB time=00:02:55.08 bitrate=1832.7kbits/s speed=2.59x elapsed=0:01:07.55    \n",
      "frame= 4409 fps= 65 q=28.0 size=   39424KiB time=00:02:56.28 bitrate=1832.1kbits/s speed=2.59x elapsed=0:01:08.05    \n",
      "frame= 4440 fps= 65 q=28.0 size=   39680KiB time=00:02:57.52 bitrate=1831.1kbits/s speed=2.59x elapsed=0:01:08.56    \n",
      "frame= 4466 fps= 65 q=28.0 size=   39680KiB time=00:02:58.56 bitrate=1820.4kbits/s speed=2.59x elapsed=0:01:09.06    \n",
      "frame= 4499 fps= 65 q=28.0 size=   40192KiB time=00:02:59.88 bitrate=1830.4kbits/s speed=2.59x elapsed=0:01:09.57    \n",
      "frame= 4526 fps= 65 q=28.0 size=   40192KiB time=00:03:00.96 bitrate=1819.5kbits/s speed=2.58x elapsed=0:01:10.07    \n",
      "frame= 4557 fps= 65 q=28.0 size=   40448KiB time=00:03:02.20 bitrate=1818.6kbits/s speed=2.58x elapsed=0:01:10.58    \n",
      "frame= 4586 fps= 65 q=28.0 size=   40704KiB time=00:03:03.36 bitrate=1818.5kbits/s speed=2.58x elapsed=0:01:11.08    \n",
      "frame= 4615 fps= 64 q=28.0 size=   40960KiB time=00:03:04.52 bitrate=1818.5kbits/s speed=2.58x elapsed=0:01:11.59    \n",
      "frame= 4639 fps= 64 q=28.0 size=   41216KiB time=00:03:05.48 bitrate=1820.4kbits/s speed=2.57x elapsed=0:01:12.10    \n",
      "frame= 4665 fps= 64 q=28.0 size=   41472KiB time=00:03:06.52 bitrate=1821.5kbits/s speed=2.57x elapsed=0:01:12.60    \n",
      "frame= 4689 fps= 64 q=28.0 size=   41728KiB time=00:03:07.48 bitrate=1823.3kbits/s speed=2.56x elapsed=0:01:13.11    \n",
      "frame= 4711 fps= 64 q=28.0 size=   41984KiB time=00:03:08.36 bitrate=1825.9kbits/s speed=2.56x elapsed=0:01:13.61    \n",
      "frame= 4733 fps= 64 q=28.0 size=   42240KiB time=00:03:09.24 bitrate=1828.5kbits/s speed=2.55x elapsed=0:01:14.11    \n",
      "frame= 4752 fps= 64 q=28.0 size=   42496KiB time=00:03:10.00 bitrate=1832.3kbits/s speed=2.55x elapsed=0:01:14.62    \n",
      "frame= 4773 fps= 64 q=28.0 size=   42752KiB time=00:03:10.84 bitrate=1835.2kbits/s speed=2.54x elapsed=0:01:15.12    \n",
      "frame= 4792 fps= 63 q=28.0 size=   43008KiB time=00:03:11.60 bitrate=1838.8kbits/s speed=2.53x elapsed=0:01:15.63    \n",
      "frame= 4807 fps= 63 q=28.0 size=   43008KiB time=00:03:12.20 bitrate=1833.1kbits/s speed=2.52x elapsed=0:01:16.13    \n",
      "frame= 4822 fps= 63 q=28.0 size=   43264KiB time=00:03:12.80 bitrate=1838.3kbits/s speed=2.52x elapsed=0:01:16.63    \n",
      "frame= 4839 fps= 63 q=28.0 size=   43264KiB time=00:03:13.48 bitrate=1831.8kbits/s speed=2.51x elapsed=0:01:17.14    \n",
      "frame= 4862 fps= 63 q=28.0 size=   43520KiB time=00:03:14.40 bitrate=1833.9kbits/s speed= 2.5x elapsed=0:01:17.65    \n",
      "frame= 4880 fps= 62 q=28.0 size=   43776KiB time=00:03:15.12 bitrate=1837.9kbits/s speed= 2.5x elapsed=0:01:18.15    \n",
      "frame= 4898 fps= 62 q=28.0 size=   44032KiB time=00:03:15.84 bitrate=1841.9kbits/s speed=2.49x elapsed=0:01:18.66    \n",
      "frame= 4923 fps= 62 q=28.0 size=   44288KiB time=00:03:16.84 bitrate=1843.2kbits/s speed=2.49x elapsed=0:01:19.16    \n",
      "frame= 4945 fps= 62 q=28.0 size=   44288KiB time=00:03:17.76 bitrate=1834.6kbits/s speed=2.48x elapsed=0:01:19.67    \n",
      "frame= 4962 fps= 62 q=28.0 size=   44544KiB time=00:03:18.40 bitrate=1839.2kbits/s speed=2.47x elapsed=0:01:20.17    \n",
      "frame= 4983 fps= 62 q=28.0 size=   44800KiB time=00:03:19.24 bitrate=1842.0kbits/s speed=2.47x elapsed=0:01:20.67    \n",
      "frame= 5013 fps= 62 q=28.0 size=   45056KiB time=00:03:20.44 bitrate=1841.4kbits/s speed=2.47x elapsed=0:01:21.17    \n",
      "frame= 5037 fps= 62 q=28.0 size=   45056KiB time=00:03:21.40 bitrate=1832.7kbits/s speed=2.47x elapsed=0:01:21.68    \n",
      "frame= 5063 fps= 62 q=28.0 size=   45312KiB time=00:03:22.44 bitrate=1833.6kbits/s speed=2.46x elapsed=0:01:22.18    \n",
      "frame= 5088 fps= 62 q=28.0 size=   45568KiB time=00:03:23.44 bitrate=1834.9kbits/s speed=2.46x elapsed=0:01:22.68    \n",
      "frame= 5111 fps= 61 q=28.0 size=   45824KiB time=00:03:24.36 bitrate=1836.9kbits/s speed=2.46x elapsed=0:01:23.19    \n",
      "frame= 5131 fps= 61 q=28.0 size=   46080KiB time=00:03:25.16 bitrate=1840.0kbits/s speed=2.45x elapsed=0:01:23.69    \n",
      "frame= 5162 fps= 61 q=28.0 size=   46336KiB time=00:03:26.40 bitrate=1839.1kbits/s speed=2.45x elapsed=0:01:24.20    \n",
      "frame= 5189 fps= 61 q=28.0 size=   46592KiB time=00:03:27.48 bitrate=1839.6kbits/s speed=2.45x elapsed=0:01:24.70    \n",
      "frame= 5216 fps= 61 q=28.0 size=   46848KiB time=00:03:28.56 bitrate=1840.1kbits/s speed=2.45x elapsed=0:01:25.21    \n",
      "frame= 5245 fps= 61 q=28.0 size=   47104KiB time=00:03:29.72 bitrate=1840.0kbits/s speed=2.45x elapsed=0:01:25.71    \n",
      "frame= 5273 fps= 61 q=28.0 size=   47360KiB time=00:03:30.84 bitrate=1840.1kbits/s speed=2.45x elapsed=0:01:26.21    \n",
      "frame= 5303 fps= 61 q=28.0 size=   47616KiB time=00:03:32.04 bitrate=1839.6kbits/s speed=2.44x elapsed=0:01:26.72    \n",
      "frame= 5333 fps= 61 q=28.0 size=   47872KiB time=00:03:33.24 bitrate=1839.1kbits/s speed=2.44x elapsed=0:01:27.22    \n",
      "frame= 5361 fps= 61 q=28.0 size=   48128KiB time=00:03:34.36 bitrate=1839.3kbits/s speed=2.44x elapsed=0:01:27.73    \n",
      "frame= 5393 fps= 61 q=28.0 size=   48384KiB time=00:03:35.64 bitrate=1838.1kbits/s speed=2.44x elapsed=0:01:28.23    \n",
      "frame= 5424 fps= 61 q=28.0 size=   48896KiB time=00:03:36.88 bitrate=1846.9kbits/s speed=2.44x elapsed=0:01:28.74    \n",
      "frame= 5451 fps= 61 q=28.0 size=   49152KiB time=00:03:37.96 bitrate=1847.4kbits/s speed=2.44x elapsed=0:01:29.24    \n"
     ]
    }
   ],
   "source": [
    "from video_commands import *\n",
    "main_video = \"marines_5min_img_overlay.mov\"\n",
    "video_list = [main_video,\"end_credits_video.mov\"]\n",
    "output_file = \"marines_5min_final.mov\"\n",
    "combine_video(video_list, primary_index=1, output_file=output_file, crf=23, preset=\"fast\")"
   ]
  },
  {
   "cell_type": "markdown",
   "id": "17b2a7a2-1208-4b2f-b1c8-04fca386e95a",
   "metadata": {},
   "source": [
    "Finally, we are done! Now you can make your own video."
   ]
  },
  {
   "cell_type": "code",
   "execution_count": null,
   "id": "8bc9eef4-1096-49ac-a48b-12246ce702d2",
   "metadata": {},
   "outputs": [],
   "source": [
    "%%HTML\n",
    "<iframe width=\"560\" height=\"315\" src=\"https://www.youtube.com/embed/PtlQhHtLjKs\" frameborder=\"0\" allowfullscreen></iframe>"
   ]
  }
 ],
 "metadata": {
  "kernelspec": {
   "display_name": "Python 3 (ipykernel)",
   "language": "python",
   "name": "python3"
  },
  "language_info": {
   "codemirror_mode": {
    "name": "ipython",
    "version": 3
   },
   "file_extension": ".py",
   "mimetype": "text/x-python",
   "name": "python",
   "nbconvert_exporter": "python",
   "pygments_lexer": "ipython3",
   "version": "3.13.7"
  }
 },
 "nbformat": 4,
 "nbformat_minor": 5
}
